{
 "cells": [
  {
   "cell_type": "markdown",
   "id": "21c636f4",
   "metadata": {},
   "source": [
    "# Capstone Project - Restaurant Analysis"
   ]
  },
  {
   "cell_type": "markdown",
   "id": "0c02f198",
   "metadata": {},
   "source": [
    "# Identifying and Recommending Best Restaurants"
   ]
  },
  {
   "cell_type": "markdown",
   "id": "a9e8b173",
   "metadata": {},
   "source": [
    "# Description:\n",
    "A restaurant consolidator is looking to revamp the B2C portal using intelligent automation technology. This requires a different matrix to identify the star restaurants and generate recommendations. To make sure an effective model can be achieved, it is important to understand the behavior of the data in hand.\n",
    "We are required to determine certain matrices to identify the star restaurants and generate recommendations."
   ]
  },
  {
   "cell_type": "markdown",
   "id": "324e6fc2",
   "metadata": {},
   "source": [
    "# Domain: Marketing"
   ]
  },
  {
   "cell_type": "markdown",
   "id": "99d37453",
   "metadata": {},
   "source": [
    "# Data:\n",
    "1. Restaurant_data.xlsx\n",
    "2. Country-Code.xlsx"
   ]
  },
  {
   "cell_type": "markdown",
   "id": "ee8fc03d",
   "metadata": {},
   "source": [
    "# Importing Libraries:"
   ]
  },
  {
   "cell_type": "code",
   "execution_count": 1,
   "id": "ce568d2d",
   "metadata": {},
   "outputs": [],
   "source": [
    "### Importing required libraries - Pandas ,Numpy, Seaborn, Matplotlib...\n",
    "\n",
    "import pandas as pd\n",
    "import numpy as np\n",
    "import seaborn as sns \n",
    "import matplotlib.pyplot as plt\n",
    "%matplotlib inline\n",
    "\n",
    "import warnings\n",
    "warnings.filterwarnings(\"ignore\")"
   ]
  },
  {
   "cell_type": "markdown",
   "id": "1a2ecefb",
   "metadata": {},
   "source": [
    "# Importing Data:"
   ]
  },
  {
   "cell_type": "markdown",
   "id": "5fc469fb",
   "metadata": {},
   "source": [
    "The data consists of two datasets the primary dataset (Restaurant_data.xlsx) that has all the major variables and the secondary dataset (Country-Code.xlsx) that has \"Country\" and \"Country code\" variables. "
   ]
  },
  {
   "cell_type": "markdown",
   "id": "288ece9d",
   "metadata": {},
   "source": [
    "We have to load both the datasets and replace the values in \"Country code\" variable  in the primary dataset with corresponding \"Countries\" from the secondary dataset and finally rename the \"Country Code\" column as \"Country\". "
   ]
  },
  {
   "cell_type": "code",
   "execution_count": 2,
   "id": "16999dbf",
   "metadata": {},
   "outputs": [
    {
     "name": "stdout",
     "output_type": "stream",
     "text": [
      "Dimensions: (9551, 19)\n"
     ]
    },
    {
     "data": {
      "text/html": [
       "<div>\n",
       "<style scoped>\n",
       "    .dataframe tbody tr th:only-of-type {\n",
       "        vertical-align: middle;\n",
       "    }\n",
       "\n",
       "    .dataframe tbody tr th {\n",
       "        vertical-align: top;\n",
       "    }\n",
       "\n",
       "    .dataframe thead th {\n",
       "        text-align: right;\n",
       "    }\n",
       "</style>\n",
       "<table border=\"1\" class=\"dataframe\">\n",
       "  <thead>\n",
       "    <tr style=\"text-align: right;\">\n",
       "      <th></th>\n",
       "      <th>Restaurant ID</th>\n",
       "      <th>Restaurant Name</th>\n",
       "      <th>Country Code</th>\n",
       "      <th>City</th>\n",
       "      <th>Address</th>\n",
       "      <th>Locality</th>\n",
       "      <th>Locality Verbose</th>\n",
       "      <th>Longitude</th>\n",
       "      <th>Latitude</th>\n",
       "      <th>Cuisines</th>\n",
       "      <th>Average Cost for two</th>\n",
       "      <th>Currency</th>\n",
       "      <th>Has Table booking</th>\n",
       "      <th>Has Online delivery</th>\n",
       "      <th>Price range</th>\n",
       "      <th>Aggregate rating</th>\n",
       "      <th>Rating color</th>\n",
       "      <th>Rating text</th>\n",
       "      <th>Votes</th>\n",
       "    </tr>\n",
       "  </thead>\n",
       "  <tbody>\n",
       "    <tr>\n",
       "      <th>0</th>\n",
       "      <td>7402935</td>\n",
       "      <td>Skye</td>\n",
       "      <td>94</td>\n",
       "      <td>Jakarta</td>\n",
       "      <td>Menara BCA, Lantai 56, Jl. MH. Thamrin, Thamri...</td>\n",
       "      <td>Grand Indonesia Mall, Thamrin</td>\n",
       "      <td>Grand Indonesia Mall, Thamrin, Jakarta</td>\n",
       "      <td>106.821999</td>\n",
       "      <td>-6.196778</td>\n",
       "      <td>Italian, Continental</td>\n",
       "      <td>800000</td>\n",
       "      <td>Indonesian Rupiah(IDR)</td>\n",
       "      <td>No</td>\n",
       "      <td>No</td>\n",
       "      <td>3</td>\n",
       "      <td>4.1</td>\n",
       "      <td>Green</td>\n",
       "      <td>Very Good</td>\n",
       "      <td>1498</td>\n",
       "    </tr>\n",
       "    <tr>\n",
       "      <th>1</th>\n",
       "      <td>7410290</td>\n",
       "      <td>Satoo - Hotel Shangri-La</td>\n",
       "      <td>94</td>\n",
       "      <td>Jakarta</td>\n",
       "      <td>Hotel Shangri-La, Jl. Jend. Sudirman</td>\n",
       "      <td>Hotel Shangri-La, Sudirman</td>\n",
       "      <td>Hotel Shangri-La, Sudirman, Jakarta</td>\n",
       "      <td>106.818961</td>\n",
       "      <td>-6.203292</td>\n",
       "      <td>Asian, Indonesian, Western</td>\n",
       "      <td>800000</td>\n",
       "      <td>Indonesian Rupiah(IDR)</td>\n",
       "      <td>No</td>\n",
       "      <td>No</td>\n",
       "      <td>3</td>\n",
       "      <td>4.6</td>\n",
       "      <td>Dark Green</td>\n",
       "      <td>Excellent</td>\n",
       "      <td>873</td>\n",
       "    </tr>\n",
       "    <tr>\n",
       "      <th>2</th>\n",
       "      <td>7420899</td>\n",
       "      <td>Sushi Masa</td>\n",
       "      <td>94</td>\n",
       "      <td>Jakarta</td>\n",
       "      <td>Jl. Tuna Raya No. 5, Penjaringan</td>\n",
       "      <td>Penjaringan</td>\n",
       "      <td>Penjaringan, Jakarta</td>\n",
       "      <td>106.800144</td>\n",
       "      <td>-6.101298</td>\n",
       "      <td>Sushi, Japanese</td>\n",
       "      <td>500000</td>\n",
       "      <td>Indonesian Rupiah(IDR)</td>\n",
       "      <td>No</td>\n",
       "      <td>No</td>\n",
       "      <td>3</td>\n",
       "      <td>4.9</td>\n",
       "      <td>Dark Green</td>\n",
       "      <td>Excellent</td>\n",
       "      <td>605</td>\n",
       "    </tr>\n",
       "    <tr>\n",
       "      <th>3</th>\n",
       "      <td>7421967</td>\n",
       "      <td>3 Wise Monkeys</td>\n",
       "      <td>94</td>\n",
       "      <td>Jakarta</td>\n",
       "      <td>Jl. Suryo No. 26, Senopati, Jakarta</td>\n",
       "      <td>Senopati</td>\n",
       "      <td>Senopati, Jakarta</td>\n",
       "      <td>106.813400</td>\n",
       "      <td>-6.235241</td>\n",
       "      <td>Japanese</td>\n",
       "      <td>450000</td>\n",
       "      <td>Indonesian Rupiah(IDR)</td>\n",
       "      <td>No</td>\n",
       "      <td>No</td>\n",
       "      <td>3</td>\n",
       "      <td>4.2</td>\n",
       "      <td>Green</td>\n",
       "      <td>Very Good</td>\n",
       "      <td>395</td>\n",
       "    </tr>\n",
       "  </tbody>\n",
       "</table>\n",
       "</div>"
      ],
      "text/plain": [
       "   Restaurant ID           Restaurant Name  Country Code     City  \\\n",
       "0        7402935                      Skye            94  Jakarta   \n",
       "1        7410290  Satoo - Hotel Shangri-La            94  Jakarta   \n",
       "2        7420899                Sushi Masa            94  Jakarta   \n",
       "3        7421967            3 Wise Monkeys            94  Jakarta   \n",
       "\n",
       "                                             Address  \\\n",
       "0  Menara BCA, Lantai 56, Jl. MH. Thamrin, Thamri...   \n",
       "1               Hotel Shangri-La, Jl. Jend. Sudirman   \n",
       "2                   Jl. Tuna Raya No. 5, Penjaringan   \n",
       "3                Jl. Suryo No. 26, Senopati, Jakarta   \n",
       "\n",
       "                        Locality                        Locality Verbose  \\\n",
       "0  Grand Indonesia Mall, Thamrin  Grand Indonesia Mall, Thamrin, Jakarta   \n",
       "1     Hotel Shangri-La, Sudirman     Hotel Shangri-La, Sudirman, Jakarta   \n",
       "2                    Penjaringan                    Penjaringan, Jakarta   \n",
       "3                       Senopati                       Senopati, Jakarta   \n",
       "\n",
       "    Longitude  Latitude                    Cuisines  Average Cost for two  \\\n",
       "0  106.821999 -6.196778        Italian, Continental                800000   \n",
       "1  106.818961 -6.203292  Asian, Indonesian, Western                800000   \n",
       "2  106.800144 -6.101298             Sushi, Japanese                500000   \n",
       "3  106.813400 -6.235241                    Japanese                450000   \n",
       "\n",
       "                 Currency Has Table booking Has Online delivery  Price range  \\\n",
       "0  Indonesian Rupiah(IDR)                No                  No            3   \n",
       "1  Indonesian Rupiah(IDR)                No                  No            3   \n",
       "2  Indonesian Rupiah(IDR)                No                  No            3   \n",
       "3  Indonesian Rupiah(IDR)                No                  No            3   \n",
       "\n",
       "   Aggregate rating Rating color Rating text  Votes  \n",
       "0               4.1        Green   Very Good   1498  \n",
       "1               4.6   Dark Green   Excellent    873  \n",
       "2               4.9   Dark Green   Excellent    605  \n",
       "3               4.2        Green   Very Good    395  "
      ]
     },
     "execution_count": 2,
     "metadata": {},
     "output_type": "execute_result"
    }
   ],
   "source": [
    "### Importing the Primary dataset \"Restaurant_data.xlsx\" as a dataframe \"df\"\n",
    "\n",
    "df = pd.read_excel('Restaurant_data.xlsx')\n",
    "print('Dimensions:', df.shape)\n",
    "df.head(4)"
   ]
  },
  {
   "cell_type": "code",
   "execution_count": 3,
   "id": "4b6519f1",
   "metadata": {},
   "outputs": [
    {
     "name": "stdout",
     "output_type": "stream",
     "text": [
      "Dimensions: (15, 2)\n"
     ]
    },
    {
     "data": {
      "text/html": [
       "<div>\n",
       "<style scoped>\n",
       "    .dataframe tbody tr th:only-of-type {\n",
       "        vertical-align: middle;\n",
       "    }\n",
       "\n",
       "    .dataframe tbody tr th {\n",
       "        vertical-align: top;\n",
       "    }\n",
       "\n",
       "    .dataframe thead th {\n",
       "        text-align: right;\n",
       "    }\n",
       "</style>\n",
       "<table border=\"1\" class=\"dataframe\">\n",
       "  <thead>\n",
       "    <tr style=\"text-align: right;\">\n",
       "      <th></th>\n",
       "      <th>Country Code</th>\n",
       "      <th>Country</th>\n",
       "    </tr>\n",
       "  </thead>\n",
       "  <tbody>\n",
       "    <tr>\n",
       "      <th>0</th>\n",
       "      <td>1</td>\n",
       "      <td>India</td>\n",
       "    </tr>\n",
       "    <tr>\n",
       "      <th>1</th>\n",
       "      <td>14</td>\n",
       "      <td>Australia</td>\n",
       "    </tr>\n",
       "    <tr>\n",
       "      <th>2</th>\n",
       "      <td>30</td>\n",
       "      <td>Brazil</td>\n",
       "    </tr>\n",
       "    <tr>\n",
       "      <th>3</th>\n",
       "      <td>37</td>\n",
       "      <td>Canada</td>\n",
       "    </tr>\n",
       "  </tbody>\n",
       "</table>\n",
       "</div>"
      ],
      "text/plain": [
       "   Country Code    Country\n",
       "0             1      India\n",
       "1            14  Australia\n",
       "2            30     Brazil\n",
       "3            37     Canada"
      ]
     },
     "execution_count": 3,
     "metadata": {},
     "output_type": "execute_result"
    }
   ],
   "source": [
    "### Loading the secondary  dataset \"Country-code.xsls\" as  data frame \"Country\" .\n",
    "\n",
    "Country = pd.read_excel('Country-code.xlsx')\n",
    "print('Dimensions:', Country.shape)\n",
    "Country.head(4)"
   ]
  },
  {
   "cell_type": "code",
   "execution_count": 4,
   "id": "6d1fd0f9",
   "metadata": {},
   "outputs": [],
   "source": [
    "### Replacing the Country Code in the Primary dataset \"df\" with the corresponding Country Names in the Secondary dataset\n",
    "\n",
    "df['Country Code'].replace(1 ,'India', inplace =True)\n",
    "df['Country Code'].replace(14,'Austraia', inplace =True)\n",
    "df['Country Code'].replace(30,'Brazil', inplace =True)\n",
    "df['Country Code'].replace(37,'Canada', inplace =True)\n",
    "df['Country Code'].replace(94,'Indonesia', inplace =True)\n",
    "df['Country Code'].replace(94,'Indonesia', inplace =True)\n",
    "df['Country Code'].replace(148,'New Zealand', inplace =True)\n",
    "df['Country Code'].replace(162,'Phillipines', inplace =True)\n",
    "df['Country Code'].replace(166,'Qatar', inplace =True)\n",
    "df['Country Code'].replace(184,'Singapore', inplace =True)\n",
    "df['Country Code'].replace(189,'South Africa', inplace =True)\n",
    "df['Country Code'].replace(191,'Sri Lanka', inplace =True)\n",
    "df['Country Code'].replace(208,'Turkey', inplace =True)\n",
    "df['Country Code'].replace(214,'UAE', inplace =True)\n",
    "df['Country Code'].replace(215,'United Kingdom', inplace =True)\n",
    "df['Country Code'].replace(216,'United States', inplace =True)\n"
   ]
  },
  {
   "cell_type": "code",
   "execution_count": 5,
   "id": "5bf8cb21",
   "metadata": {},
   "outputs": [
    {
     "data": {
      "text/html": [
       "<div>\n",
       "<style scoped>\n",
       "    .dataframe tbody tr th:only-of-type {\n",
       "        vertical-align: middle;\n",
       "    }\n",
       "\n",
       "    .dataframe tbody tr th {\n",
       "        vertical-align: top;\n",
       "    }\n",
       "\n",
       "    .dataframe thead th {\n",
       "        text-align: right;\n",
       "    }\n",
       "</style>\n",
       "<table border=\"1\" class=\"dataframe\">\n",
       "  <thead>\n",
       "    <tr style=\"text-align: right;\">\n",
       "      <th></th>\n",
       "      <th>Restaurant ID</th>\n",
       "      <th>Restaurant Name</th>\n",
       "      <th>Country</th>\n",
       "      <th>City</th>\n",
       "      <th>Address</th>\n",
       "      <th>Locality</th>\n",
       "      <th>Locality Verbose</th>\n",
       "      <th>Longitude</th>\n",
       "      <th>Latitude</th>\n",
       "      <th>Cuisines</th>\n",
       "      <th>Average Cost for two</th>\n",
       "      <th>Currency</th>\n",
       "      <th>Has Table booking</th>\n",
       "      <th>Has Online delivery</th>\n",
       "      <th>Price range</th>\n",
       "      <th>Aggregate rating</th>\n",
       "      <th>Rating color</th>\n",
       "      <th>Rating text</th>\n",
       "      <th>Votes</th>\n",
       "    </tr>\n",
       "  </thead>\n",
       "  <tbody>\n",
       "    <tr>\n",
       "      <th>0</th>\n",
       "      <td>7402935</td>\n",
       "      <td>Skye</td>\n",
       "      <td>Indonesia</td>\n",
       "      <td>Jakarta</td>\n",
       "      <td>Menara BCA, Lantai 56, Jl. MH. Thamrin, Thamri...</td>\n",
       "      <td>Grand Indonesia Mall, Thamrin</td>\n",
       "      <td>Grand Indonesia Mall, Thamrin, Jakarta</td>\n",
       "      <td>106.821999</td>\n",
       "      <td>-6.196778</td>\n",
       "      <td>Italian, Continental</td>\n",
       "      <td>800000</td>\n",
       "      <td>Indonesian Rupiah(IDR)</td>\n",
       "      <td>No</td>\n",
       "      <td>No</td>\n",
       "      <td>3</td>\n",
       "      <td>4.1</td>\n",
       "      <td>Green</td>\n",
       "      <td>Very Good</td>\n",
       "      <td>1498</td>\n",
       "    </tr>\n",
       "    <tr>\n",
       "      <th>1</th>\n",
       "      <td>7410290</td>\n",
       "      <td>Satoo - Hotel Shangri-La</td>\n",
       "      <td>Indonesia</td>\n",
       "      <td>Jakarta</td>\n",
       "      <td>Hotel Shangri-La, Jl. Jend. Sudirman</td>\n",
       "      <td>Hotel Shangri-La, Sudirman</td>\n",
       "      <td>Hotel Shangri-La, Sudirman, Jakarta</td>\n",
       "      <td>106.818961</td>\n",
       "      <td>-6.203292</td>\n",
       "      <td>Asian, Indonesian, Western</td>\n",
       "      <td>800000</td>\n",
       "      <td>Indonesian Rupiah(IDR)</td>\n",
       "      <td>No</td>\n",
       "      <td>No</td>\n",
       "      <td>3</td>\n",
       "      <td>4.6</td>\n",
       "      <td>Dark Green</td>\n",
       "      <td>Excellent</td>\n",
       "      <td>873</td>\n",
       "    </tr>\n",
       "  </tbody>\n",
       "</table>\n",
       "</div>"
      ],
      "text/plain": [
       "   Restaurant ID           Restaurant Name    Country     City  \\\n",
       "0        7402935                      Skye  Indonesia  Jakarta   \n",
       "1        7410290  Satoo - Hotel Shangri-La  Indonesia  Jakarta   \n",
       "\n",
       "                                             Address  \\\n",
       "0  Menara BCA, Lantai 56, Jl. MH. Thamrin, Thamri...   \n",
       "1               Hotel Shangri-La, Jl. Jend. Sudirman   \n",
       "\n",
       "                        Locality                        Locality Verbose  \\\n",
       "0  Grand Indonesia Mall, Thamrin  Grand Indonesia Mall, Thamrin, Jakarta   \n",
       "1     Hotel Shangri-La, Sudirman     Hotel Shangri-La, Sudirman, Jakarta   \n",
       "\n",
       "    Longitude  Latitude                    Cuisines  Average Cost for two  \\\n",
       "0  106.821999 -6.196778        Italian, Continental                800000   \n",
       "1  106.818961 -6.203292  Asian, Indonesian, Western                800000   \n",
       "\n",
       "                 Currency Has Table booking Has Online delivery  Price range  \\\n",
       "0  Indonesian Rupiah(IDR)                No                  No            3   \n",
       "1  Indonesian Rupiah(IDR)                No                  No            3   \n",
       "\n",
       "   Aggregate rating Rating color Rating text  Votes  \n",
       "0               4.1        Green   Very Good   1498  \n",
       "1               4.6   Dark Green   Excellent    873  "
      ]
     },
     "execution_count": 5,
     "metadata": {},
     "output_type": "execute_result"
    }
   ],
   "source": [
    "### Renaming the Column \"Country Code\" as \"Country\"...\n",
    "\n",
    "df.rename(columns = {\"Country Code\":\"Country\"}, inplace = True)\n",
    "df.head(2)"
   ]
  },
  {
   "cell_type": "markdown",
   "id": "0c6f3949",
   "metadata": {},
   "source": [
    "# Data Preprocessing:"
   ]
  },
  {
   "cell_type": "markdown",
   "id": "0ed3e1bc",
   "metadata": {},
   "source": [
    "1.Perform preliminary data inspection and report the findings as the structure of the data, missing values, duplicates, etc.\n",
    "\n"
   ]
  },
  {
   "cell_type": "markdown",
   "id": "6486da69",
   "metadata": {},
   "source": [
    "2.Based on the findings from the previous questions, identify duplicates and remove them."
   ]
  },
  {
   "cell_type": "markdown",
   "id": "f9b64e05",
   "metadata": {},
   "source": [
    "# Structure:"
   ]
  },
  {
   "cell_type": "code",
   "execution_count": 6,
   "id": "4a48e3c0",
   "metadata": {},
   "outputs": [
    {
     "data": {
      "text/plain": [
       "Index(['Restaurant ID', 'Restaurant Name', 'Country', 'City', 'Address',\n",
       "       'Locality', 'Locality Verbose', 'Longitude', 'Latitude', 'Cuisines',\n",
       "       'Average Cost for two', 'Currency', 'Has Table booking',\n",
       "       'Has Online delivery', 'Price range', 'Aggregate rating',\n",
       "       'Rating color', 'Rating text', 'Votes'],\n",
       "      dtype='object')"
      ]
     },
     "execution_count": 6,
     "metadata": {},
     "output_type": "execute_result"
    }
   ],
   "source": [
    "### Getting a look at the list of variables (columns) present in the dataset ... \n",
    "\n",
    "df.columns"
   ]
  },
  {
   "cell_type": "markdown",
   "id": "d0044e29",
   "metadata": {},
   "source": [
    "The variables  'Address',  'Locality',  'Locality Verbose', 'Currency', 'Longitude', and 'Latitude'seem irrelevant, lets drop them."
   ]
  },
  {
   "cell_type": "code",
   "execution_count": 7,
   "id": "6fb54a8b",
   "metadata": {},
   "outputs": [
    {
     "data": {
      "text/plain": [
       "Index(['Restaurant ID', 'Restaurant Name', 'Country', 'City', 'Cuisines',\n",
       "       'Average Cost for two', 'Has Table booking', 'Has Online delivery',\n",
       "       'Price range', 'Aggregate rating', 'Rating color', 'Rating text',\n",
       "       'Votes'],\n",
       "      dtype='object')"
      ]
     },
     "execution_count": 7,
     "metadata": {},
     "output_type": "execute_result"
    }
   ],
   "source": [
    "### Dropping irrelevant columns:\n",
    "\n",
    "df.drop (['Address', 'Locality', 'Locality Verbose','Currency','Longitude','Latitude'], axis =1, inplace =True)\n",
    "df.columns"
   ]
  },
  {
   "cell_type": "code",
   "execution_count": 8,
   "id": "9aaa6e8c",
   "metadata": {},
   "outputs": [
    {
     "name": "stdout",
     "output_type": "stream",
     "text": [
      "<class 'pandas.core.frame.DataFrame'>\n",
      "RangeIndex: 9551 entries, 0 to 9550\n",
      "Data columns (total 13 columns):\n",
      " #   Column                Non-Null Count  Dtype  \n",
      "---  ------                --------------  -----  \n",
      " 0   Restaurant ID         9551 non-null   int64  \n",
      " 1   Restaurant Name       9550 non-null   object \n",
      " 2   Country               9551 non-null   object \n",
      " 3   City                  9551 non-null   object \n",
      " 4   Cuisines              9542 non-null   object \n",
      " 5   Average Cost for two  9551 non-null   int64  \n",
      " 6   Has Table booking     9551 non-null   object \n",
      " 7   Has Online delivery   9551 non-null   object \n",
      " 8   Price range           9551 non-null   int64  \n",
      " 9   Aggregate rating      9551 non-null   float64\n",
      " 10  Rating color          9551 non-null   object \n",
      " 11  Rating text           9551 non-null   object \n",
      " 12  Votes                 9551 non-null   int64  \n",
      "dtypes: float64(1), int64(4), object(8)\n",
      "memory usage: 970.1+ KB\n"
     ]
    }
   ],
   "source": [
    "### Getting the 'Structure' of the dataset by 'df.info'  function\n",
    "\n",
    "df.info()"
   ]
  },
  {
   "cell_type": "markdown",
   "id": "8f846976",
   "metadata": {},
   "source": [
    "From the above illustration we get foolowing information:"
   ]
  },
  {
   "cell_type": "markdown",
   "id": "1f2e7a7e",
   "metadata": {},
   "source": [
    "13 variables((0 - 12)columns), \n"
   ]
  },
  {
   "cell_type": "markdown",
   "id": "ff41b0cd",
   "metadata": {},
   "source": [
    "9551 observations ((0 - 9550)rows)\n"
   ]
  },
  {
   "cell_type": "markdown",
   "id": "36b0ea61",
   "metadata": {},
   "source": [
    "Null values detected in \"Restaurant Name\" and \"Cuisines\" columns.(no of non nulls != total no of rows)\n"
   ]
  },
  {
   "cell_type": "markdown",
   "id": "acfe3023",
   "metadata": {},
   "source": [
    "8\"object\" dtype variables.\n"
   ]
  },
  {
   "cell_type": "markdown",
   "id": "76b956de",
   "metadata": {},
   "source": [
    "4 \"int64\" dtype variables.\n"
   ]
  },
  {
   "cell_type": "markdown",
   "id": "4caeb704",
   "metadata": {},
   "source": [
    "1\"float64\" dtype variables."
   ]
  },
  {
   "cell_type": "markdown",
   "id": "da8d5b9f",
   "metadata": {},
   "source": [
    "The variables \"Restaurant ID\" and \"Price range\", are wrongly given dtypes \"int64\" , lets correct them to dtype \"Category\" "
   ]
  },
  {
   "cell_type": "code",
   "execution_count": 9,
   "id": "9fdb9746",
   "metadata": {
    "scrolled": false
   },
   "outputs": [],
   "source": [
    "#### Changing dtypes of  \"Restaurant ID\",\"Price range\",\"Longitude\" and \"Latitude\"    to \"Object64\"\n",
    "\n",
    "df['Restaurant ID'] = pd.Categorical(df['Restaurant ID'])\n",
    "df['Price range']   = pd.Categorical(df['Price range'])"
   ]
  },
  {
   "cell_type": "markdown",
   "id": "4d32344e",
   "metadata": {},
   "source": [
    "# Missing values:"
   ]
  },
  {
   "cell_type": "code",
   "execution_count": 10,
   "id": "bf101179",
   "metadata": {},
   "outputs": [
    {
     "name": "stdout",
     "output_type": "stream",
     "text": [
      "Restaurant Name    1\n",
      "Cuisines           9\n",
      "dtype: int64\n"
     ]
    }
   ],
   "source": [
    "### Alternately we can also crosscheck for the number of null values present in the dataset as follows:\n",
    "\n",
    "Null = df.isnull().sum()\n",
    "print(Null[Null>0])"
   ]
  },
  {
   "cell_type": "markdown",
   "id": "1cd33943",
   "metadata": {},
   "source": [
    "The dataset shows 1 null value  for\"Restaurant Name\" and 9 null values for \"Cuisines\" .\n",
    "Since the null values are very few(10) compared to total no of observations (9551). We can simply drop the Null Values."
   ]
  },
  {
   "cell_type": "code",
   "execution_count": 11,
   "id": "d7a58594",
   "metadata": {},
   "outputs": [
    {
     "name": "stdout",
     "output_type": "stream",
     "text": [
      "Total number of rows before dropping null values: 9551\n",
      "Total number of rows after dropping null values: 9541\n"
     ]
    }
   ],
   "source": [
    "###  Dropping \"null\" values \n",
    "\n",
    "print('Total number of rows before dropping null values:',df.shape[0])\n",
    "\n",
    "df = df.dropna()\n",
    "\n",
    "print('Total number of rows after dropping null values:',df.shape[0])"
   ]
  },
  {
   "cell_type": "markdown",
   "id": "ba89b75d",
   "metadata": {},
   "source": [
    "Thus the 10 Null values are successfully removed from the dataset ."
   ]
  },
  {
   "cell_type": "markdown",
   "id": "06b9b155",
   "metadata": {},
   "source": [
    "# Duplicates:"
   ]
  },
  {
   "cell_type": "code",
   "execution_count": 12,
   "id": "91a423a9",
   "metadata": {},
   "outputs": [
    {
     "data": {
      "text/plain": [
       "0"
      ]
     },
     "execution_count": 12,
     "metadata": {},
     "output_type": "execute_result"
    }
   ],
   "source": [
    "### Checking and  Getting the sum of duplicate values ....\n",
    "\n",
    "df.duplicated().sum()"
   ]
  },
  {
   "cell_type": "markdown",
   "id": "644adf3d",
   "metadata": {},
   "source": [
    "No Duplicates detected in the dataset."
   ]
  },
  {
   "cell_type": "markdown",
   "id": "9f69660e",
   "metadata": {},
   "source": [
    "# Exploratory Data Analysis:"
   ]
  },
  {
   "cell_type": "markdown",
   "id": "822996d9",
   "metadata": {},
   "source": [
    "# 1.Explore the geographical distribution of the restaurants and identify the cities with the maximum and minimum number of restaurants\n",
    "\n"
   ]
  },
  {
   "cell_type": "markdown",
   "id": "96d4798f",
   "metadata": {},
   "source": [
    "To identify the cities with the maximum and minimum number of Restaurants. Let us first get a value count of \"City\" column as each row represents a unique \"Restaurant\", there after we can do \".nlargest\" and \".nsmallest\" to get \"Cities\" with maximum and minimum \"Restaurants\" respectively."
   ]
  },
  {
   "cell_type": "code",
   "execution_count": 13,
   "id": "2e8650cf",
   "metadata": {},
   "outputs": [
    {
     "data": {
      "text/plain": [
       "New Delhi        5473\n",
       "Gurgaon          1118\n",
       "Noida            1080\n",
       "Faridabad         251\n",
       "Ghaziabad          25\n",
       "                 ... \n",
       "Trentham East       1\n",
       "Monroe              1\n",
       "Montville           1\n",
       "Tanunda             1\n",
       "Tagaytay City       1\n",
       "Name: City, Length: 140, dtype: int64"
      ]
     },
     "execution_count": 13,
     "metadata": {},
     "output_type": "execute_result"
    }
   ],
   "source": [
    "### Getting a value Count of the variable \"City\" :\n",
    "\n",
    "Restaurants_per_City = df['City'].value_counts()\n",
    "Restaurants_per_City"
   ]
  },
  {
   "cell_type": "code",
   "execution_count": 14,
   "id": "fb02c900",
   "metadata": {},
   "outputs": [
    {
     "data": {
      "text/plain": [
       "New Delhi    5473\n",
       "Gurgaon      1118\n",
       "Noida        1080\n",
       "Faridabad     251\n",
       "Ghaziabad      25\n",
       "Name: City, dtype: int64"
      ]
     },
     "execution_count": 14,
     "metadata": {},
     "output_type": "execute_result"
    }
   ],
   "source": [
    "## Gettting the \"City\" with the Maximum number of Restaurants..\n",
    "\n",
    "Restaurants_per_City.nlargest()"
   ]
  },
  {
   "cell_type": "markdown",
   "id": "9d8c6e2f",
   "metadata": {},
   "source": [
    "Thus \"City\" with maximum number of Restaurants is : \"New Delhi\" (INDIA) - 5473 Restaurants"
   ]
  },
  {
   "cell_type": "code",
   "execution_count": 15,
   "id": "ddab1dc0",
   "metadata": {},
   "outputs": [
    {
     "data": {
      "text/plain": [
       "Middleton Beach    1\n",
       "Lakes Entrance     1\n",
       "Dicky Beach        1\n",
       "Balingup           1\n",
       "Macedon            1\n",
       "Name: City, dtype: int64"
      ]
     },
     "execution_count": 15,
     "metadata": {},
     "output_type": "execute_result"
    }
   ],
   "source": [
    "## Gettting the \"City\" with the Minimum number of Restaurants..\n",
    "\n",
    "Restaurants_per_City.nsmallest()"
   ]
  },
  {
   "cell_type": "markdown",
   "id": "b3ab4eb8",
   "metadata": {},
   "source": [
    "Many Cities have only one \"Restaurant\", getting a list of all the \"Cities\" with one \"Restaurant\""
   ]
  },
  {
   "cell_type": "code",
   "execution_count": 16,
   "id": "2bcecde8",
   "metadata": {},
   "outputs": [
    {
     "name": "stdout",
     "output_type": "stream",
     "text": [
      "Middleton Beach     1\n",
      "Lakes Entrance      1\n",
      "Dicky Beach         1\n",
      "Balingup            1\n",
      "Macedon             1\n",
      "Yorkton             1\n",
      "Paynesville         1\n",
      "Potrero             1\n",
      "Cochrane            1\n",
      "Phillip Island      1\n",
      "Mayfield            1\n",
      "Palm Cove           1\n",
      "Armidale            1\n",
      "Mohali              1\n",
      "Princeton           1\n",
      "Vineland Station    1\n",
      "Winchester Bay      1\n",
      "Flaxton             1\n",
      "Ojo Caliente        1\n",
      "Consort             1\n",
      "Mc Millan           1\n",
      "East Ballina        1\n",
      "Randburg            1\n",
      "Panchkula           1\n",
      "Beechworth          1\n",
      "Lincoln             1\n",
      "Lakeview            1\n",
      "Chatham-Kent        1\n",
      "Bandung             1\n",
      "Lorn                1\n",
      "Weirton             1\n",
      "Quezon City         1\n",
      "Huskisson           1\n",
      "Vernonia            1\n",
      "Fernley             1\n",
      "Inverloch           1\n",
      "Victor Harbor       1\n",
      "Penola              1\n",
      "Forrest             1\n",
      "Clatskanie          1\n",
      "Trentham East       1\n",
      "Monroe              1\n",
      "Montville           1\n",
      "Tanunda             1\n",
      "Tagaytay City       1\n",
      "Name: City, dtype: int64\n"
     ]
    }
   ],
   "source": [
    "print(Restaurants_per_City[Restaurants_per_City == 1])"
   ]
  },
  {
   "cell_type": "markdown",
   "id": "39327631",
   "metadata": {},
   "source": [
    "Thus all the above Cities have only \"one\" Restaurant - \"City with Minimun number of Restaurants\""
   ]
  },
  {
   "cell_type": "markdown",
   "id": "f438f3db",
   "metadata": {},
   "source": [
    "# 2.Restaurant franchising is a thriving venture. So, it is very important to explore the franchise with most national presence"
   ]
  },
  {
   "cell_type": "markdown",
   "id": "5dec43da",
   "metadata": {},
   "source": [
    "Let us get a \"Restaurant\" wise groupby for the dataset and have a look at \"Countries\" corresponding to each \"Restaurant\". \n"
   ]
  },
  {
   "cell_type": "code",
   "execution_count": 17,
   "id": "364201f8",
   "metadata": {},
   "outputs": [
    {
     "data": {
      "text/html": [
       "<div>\n",
       "<style scoped>\n",
       "    .dataframe tbody tr th:only-of-type {\n",
       "        vertical-align: middle;\n",
       "    }\n",
       "\n",
       "    .dataframe tbody tr th {\n",
       "        vertical-align: top;\n",
       "    }\n",
       "\n",
       "    .dataframe thead th {\n",
       "        text-align: right;\n",
       "    }\n",
       "</style>\n",
       "<table border=\"1\" class=\"dataframe\">\n",
       "  <thead>\n",
       "    <tr style=\"text-align: right;\">\n",
       "      <th></th>\n",
       "      <th>Country</th>\n",
       "    </tr>\n",
       "    <tr>\n",
       "      <th>Restaurant Name</th>\n",
       "      <th></th>\n",
       "    </tr>\n",
       "  </thead>\n",
       "  <tbody>\n",
       "    <tr>\n",
       "      <th>12212</th>\n",
       "      <td>India</td>\n",
       "    </tr>\n",
       "    <tr>\n",
       "      <th>Let's Burrrp</th>\n",
       "      <td>India</td>\n",
       "    </tr>\n",
       "    <tr>\n",
       "      <th>#45</th>\n",
       "      <td>India</td>\n",
       "    </tr>\n",
       "    <tr>\n",
       "      <th>#Dilliwaala6</th>\n",
       "      <td>India</td>\n",
       "    </tr>\n",
       "    <tr>\n",
       "      <th>#InstaFreeze</th>\n",
       "      <td>India</td>\n",
       "    </tr>\n",
       "    <tr>\n",
       "      <th>...</th>\n",
       "      <td>...</td>\n",
       "    </tr>\n",
       "    <tr>\n",
       "      <th>t Lounge by Dilmah</th>\n",
       "      <td>India</td>\n",
       "    </tr>\n",
       "    <tr>\n",
       "      <th>tashas</th>\n",
       "      <td>South Africa</td>\n",
       "    </tr>\n",
       "    <tr>\n",
       "      <th>wagamama</th>\n",
       "      <td>New Zealand</td>\n",
       "    </tr>\n",
       "    <tr>\n",
       "      <th>{Niche} - Cafe &amp; Bar</th>\n",
       "      <td>India</td>\n",
       "    </tr>\n",
       "    <tr>\n",
       "      <th>Ìàukura€Ùa Sofras€±</th>\n",
       "      <td>Turkey</td>\n",
       "    </tr>\n",
       "  </tbody>\n",
       "</table>\n",
       "<p>7436 rows × 1 columns</p>\n",
       "</div>"
      ],
      "text/plain": [
       "                           Country\n",
       "Restaurant Name                   \n",
       "12212                        India\n",
       " Let's Burrrp                India\n",
       "#45                          India\n",
       "#Dilliwaala6                 India\n",
       "#InstaFreeze                 India\n",
       "...                            ...\n",
       "t Lounge by Dilmah           India\n",
       "tashas                South Africa\n",
       "wagamama               New Zealand\n",
       "{Niche} - Cafe & Bar         India\n",
       "Ìàukura€Ùa Sofras€±         Turkey\n",
       "\n",
       "[7436 rows x 1 columns]"
      ]
     },
     "execution_count": 17,
     "metadata": {},
     "output_type": "execute_result"
    }
   ],
   "source": [
    "### Getting \"Restaurant\" wise groupby for the dataset n seeing the corresponding countries ... \n",
    "\n",
    "df.groupby('Restaurant Name')[['Country']].sum()"
   ]
  },
  {
   "cell_type": "markdown",
   "id": "15d3b3af",
   "metadata": {},
   "source": [
    "There are \"7436\" Restaurants, most of the Restaurants are located in only one \"Country\". "
   ]
  },
  {
   "cell_type": "markdown",
   "id": "0307ee1e",
   "metadata": {},
   "source": [
    " Lets do a Count of \"Countries\" associated with each \"Restaurant\" (\".nunique()\") and finally get the \"Restaurant\" present in Most Countries(\".nunique().nlargest()\")"
   ]
  },
  {
   "cell_type": "code",
   "execution_count": 18,
   "id": "3cf24e64",
   "metadata": {},
   "outputs": [
    {
     "data": {
      "text/plain": [
       "Restaurant Name\n",
       "Hard Rock Cafe         3\n",
       "Applebee's             2\n",
       "Barbeque Nation        2\n",
       "Chili's Grill & Bar    2\n",
       "Din Tai Fung           2\n",
       "Name: Country, dtype: int64"
      ]
     },
     "execution_count": 18,
     "metadata": {},
     "output_type": "execute_result"
    }
   ],
   "source": [
    "### Getting the number of unique Countries associated with each Restaurant by \"nunique\" function, getting the \"nlargest\" value\n",
    "\n",
    "df.groupby('Restaurant Name')['Country'].nunique().nlargest()"
   ]
  },
  {
   "cell_type": "markdown",
   "id": "86dde8b1",
   "metadata": {},
   "source": [
    "The \"Restaurant\" - \"Hard Rock Cafe\" seems to present in 3 \"Countries\"."
   ]
  },
  {
   "cell_type": "markdown",
   "id": "7ec8e3ed",
   "metadata": {},
   "source": [
    " lets slice the rows with \"Restaurant Name\" == \" Hard Rock Cafe\""
   ]
  },
  {
   "cell_type": "code",
   "execution_count": 19,
   "id": "e6858b65",
   "metadata": {},
   "outputs": [
    {
     "data": {
      "text/html": [
       "<div>\n",
       "<style scoped>\n",
       "    .dataframe tbody tr th:only-of-type {\n",
       "        vertical-align: middle;\n",
       "    }\n",
       "\n",
       "    .dataframe tbody tr th {\n",
       "        vertical-align: top;\n",
       "    }\n",
       "\n",
       "    .dataframe thead th {\n",
       "        text-align: right;\n",
       "    }\n",
       "</style>\n",
       "<table border=\"1\" class=\"dataframe\">\n",
       "  <thead>\n",
       "    <tr style=\"text-align: right;\">\n",
       "      <th></th>\n",
       "      <th>Restaurant Name</th>\n",
       "      <th>City</th>\n",
       "      <th>Country</th>\n",
       "    </tr>\n",
       "  </thead>\n",
       "  <tbody>\n",
       "    <tr>\n",
       "      <th>161</th>\n",
       "      <td>Hard Rock Cafe</td>\n",
       "      <td>Gurgaon</td>\n",
       "      <td>India</td>\n",
       "    </tr>\n",
       "    <tr>\n",
       "      <th>6044</th>\n",
       "      <td>Hard Rock Cafe</td>\n",
       "      <td>Dubai</td>\n",
       "      <td>UAE</td>\n",
       "    </tr>\n",
       "    <tr>\n",
       "      <th>9149</th>\n",
       "      <td>Hard Rock Cafe</td>\n",
       "      <td>Edinburgh</td>\n",
       "      <td>United Kingdom</td>\n",
       "    </tr>\n",
       "  </tbody>\n",
       "</table>\n",
       "</div>"
      ],
      "text/plain": [
       "     Restaurant Name       City         Country\n",
       "161   Hard Rock Cafe    Gurgaon           India\n",
       "6044  Hard Rock Cafe      Dubai             UAE\n",
       "9149  Hard Rock Cafe  Edinburgh  United Kingdom"
      ]
     },
     "execution_count": 19,
     "metadata": {},
     "output_type": "execute_result"
    }
   ],
   "source": [
    "## Slicing the rows with \"Restaurant Name\" == \" Hard Rock Cafe\"\n",
    "\n",
    "df[df['Restaurant Name'] == 'Hard Rock Cafe'][['Restaurant Name','City', 'Country']]"
   ]
  },
  {
   "cell_type": "markdown",
   "id": "43dafd33",
   "metadata": {},
   "source": [
    "The Restaurant \"HARD ROCK CAFE\" has \"\"Most National Presence\"\"."
   ]
  },
  {
   "cell_type": "markdown",
   "id": "c0e60e08",
   "metadata": {},
   "source": [
    " It is present in three Countries 'INDIA','UAE' and 'UNITED KINGDOM'"
   ]
  },
  {
   "cell_type": "markdown",
   "id": "46faa375",
   "metadata": {},
   "source": [
    "# 3.Find out the ratio between restaurants that allow table booking vs. those that do not allow table booking"
   ]
  },
  {
   "cell_type": "code",
   "execution_count": 20,
   "id": "451739ad",
   "metadata": {},
   "outputs": [
    {
     "data": {
      "text/plain": [
       "No     8383\n",
       "Yes    1158\n",
       "Name: Has Table booking, dtype: int64"
      ]
     },
     "execution_count": 20,
     "metadata": {},
     "output_type": "execute_result"
    }
   ],
   "source": [
    "### Getting a value count of \"Has Table booking\" variable...\n",
    "\n",
    "df['Has Table booking'].value_counts()"
   ]
  },
  {
   "cell_type": "markdown",
   "id": "943ae639",
   "metadata": {},
   "source": [
    "Total Number of Restaurants that allow \"Table Booking\" : 1158"
   ]
  },
  {
   "cell_type": "markdown",
   "id": "11c77f91",
   "metadata": {},
   "source": [
    "Total Number of Restaurants that do not allow \"Table Booking\" : 8383"
   ]
  },
  {
   "cell_type": "code",
   "execution_count": 21,
   "id": "b2de548b",
   "metadata": {},
   "outputs": [
    {
     "data": {
      "text/plain": [
       "0.13813670523678875"
      ]
     },
     "execution_count": 21,
     "metadata": {},
     "output_type": "execute_result"
    }
   ],
   "source": [
    "### Calculating the ratio between restaurants that allow table booking vs. those that do not allow table booking\n",
    "(1158/9541) / (8383/9541)"
   ]
  },
  {
   "cell_type": "markdown",
   "id": "e721077c",
   "metadata": {},
   "source": [
    "The ratio of \"Restaurants\" that allow table booking w.r.t those that do not allow is : 13.8 % (approx 14 %)"
   ]
  },
  {
   "cell_type": "markdown",
   "id": "798e7b15",
   "metadata": {},
   "source": [
    "# 4.Find out the percentage of restaurants providing online delivery"
   ]
  },
  {
   "cell_type": "code",
   "execution_count": 22,
   "id": "79eaf72a",
   "metadata": {},
   "outputs": [
    {
     "data": {
      "text/plain": [
       "No     7090\n",
       "Yes    2451\n",
       "Name: Has Online delivery, dtype: int64"
      ]
     },
     "execution_count": 22,
     "metadata": {},
     "output_type": "execute_result"
    }
   ],
   "source": [
    "### Getting a value count of \"Has Online delivery\" variable...\n",
    "\n",
    "df['Has Online delivery'].value_counts()"
   ]
  },
  {
   "cell_type": "markdown",
   "id": "53333e43",
   "metadata": {},
   "source": [
    "Total Number of Restaurants that allow \"Online Delivery\" : 2451"
   ]
  },
  {
   "cell_type": "markdown",
   "id": "f3ff50a8",
   "metadata": {},
   "source": [
    "Total Number of Restaurants that do not allow \"Online Delivery\" : 7090"
   ]
  },
  {
   "cell_type": "code",
   "execution_count": 23,
   "id": "f9586a2a",
   "metadata": {},
   "outputs": [
    {
     "data": {
      "text/plain": [
       "25.68913111833141"
      ]
     },
     "execution_count": 23,
     "metadata": {},
     "output_type": "execute_result"
    }
   ],
   "source": [
    " ### Calculating the percentage of restaurants providing online delivery\n",
    "\n",
    "(2451/9541) *100     "
   ]
  },
  {
   "cell_type": "markdown",
   "id": "0354754c",
   "metadata": {},
   "source": [
    "The percentage of restaurants providing online delivery : 25.6 % (approx 26%)"
   ]
  },
  {
   "cell_type": "markdown",
   "id": "965e550f",
   "metadata": {},
   "source": [
    "# 5.Calculate the difference in number of votes for the restaurants that deliver and the restaurants that do not deliver"
   ]
  },
  {
   "cell_type": "code",
   "execution_count": 24,
   "id": "86f81022",
   "metadata": {},
   "outputs": [
    {
     "data": {
      "text/html": [
       "<div>\n",
       "<style scoped>\n",
       "    .dataframe tbody tr th:only-of-type {\n",
       "        vertical-align: middle;\n",
       "    }\n",
       "\n",
       "    .dataframe tbody tr th {\n",
       "        vertical-align: top;\n",
       "    }\n",
       "\n",
       "    .dataframe thead th {\n",
       "        text-align: right;\n",
       "    }\n",
       "</style>\n",
       "<table border=\"1\" class=\"dataframe\">\n",
       "  <thead>\n",
       "    <tr style=\"text-align: right;\">\n",
       "      <th></th>\n",
       "      <th>Votes</th>\n",
       "    </tr>\n",
       "    <tr>\n",
       "      <th>Has Online delivery</th>\n",
       "      <th></th>\n",
       "    </tr>\n",
       "  </thead>\n",
       "  <tbody>\n",
       "    <tr>\n",
       "      <th>No</th>\n",
       "      <td>977236</td>\n",
       "    </tr>\n",
       "    <tr>\n",
       "      <th>Yes</th>\n",
       "      <td>517914</td>\n",
       "    </tr>\n",
       "  </tbody>\n",
       "</table>\n",
       "</div>"
      ],
      "text/plain": [
       "                      Votes\n",
       "Has Online delivery        \n",
       "No                   977236\n",
       "Yes                  517914"
      ]
     },
     "execution_count": 24,
     "metadata": {},
     "output_type": "execute_result"
    }
   ],
   "source": [
    "## Groupby the dataset based on \"Online delivery\" and get a sum of \"Votes\" for Restaurants ...\n",
    "\n",
    "df.groupby('Has Online delivery')[['Votes']].sum()"
   ]
  },
  {
   "cell_type": "markdown",
   "id": "cae55fdc",
   "metadata": {},
   "source": [
    "The Restaurants that have \"Online Delivery\" have  a total of :  517914 \"Votes\"."
   ]
  },
  {
   "cell_type": "markdown",
   "id": "12b65df6",
   "metadata": {},
   "source": [
    "The Restaurants that do not have \"Online Delivery\" have a total of : 977236 \"Votes\"."
   ]
  },
  {
   "cell_type": "markdown",
   "id": "23ece8e6",
   "metadata": {},
   "source": [
    "The Reataurants that do not offer \"Online Delivery\"  have more \"Votes\"."
   ]
  },
  {
   "cell_type": "code",
   "execution_count": 25,
   "id": "0b47802e",
   "metadata": {},
   "outputs": [
    {
     "data": {
      "text/plain": [
       "459322"
      ]
     },
     "execution_count": 25,
     "metadata": {},
     "output_type": "execute_result"
    }
   ],
   "source": [
    "## Calculating the difference votes for the restaurants that deliver and the restaurants that do not deliver..\n",
    "977236 - 517914"
   ]
  },
  {
   "cell_type": "markdown",
   "id": "c3c12bed",
   "metadata": {},
   "source": [
    "The \"Difference\" in number of \"Votes\" for the \"Restaurants\" that deliver and the restaurants that do not deliver is : 459322"
   ]
  },
  {
   "cell_type": "markdown",
   "id": "0cac6bea",
   "metadata": {},
   "source": [
    "# 6.What are the top 10 cuisines served across cities?"
   ]
  },
  {
   "cell_type": "markdown",
   "id": "c5eaa218",
   "metadata": {},
   "source": [
    "In order to get top 10 cuisines served across cities, let us get a \"City\" wise Groupby for the dataset and look at the most served cuisines in each city"
   ]
  },
  {
   "cell_type": "code",
   "execution_count": 26,
   "id": "7c68c251",
   "metadata": {},
   "outputs": [
    {
     "data": {
      "text/html": [
       "<div>\n",
       "<style scoped>\n",
       "    .dataframe tbody tr th:only-of-type {\n",
       "        vertical-align: middle;\n",
       "    }\n",
       "\n",
       "    .dataframe tbody tr th {\n",
       "        vertical-align: top;\n",
       "    }\n",
       "\n",
       "    .dataframe thead th {\n",
       "        text-align: right;\n",
       "    }\n",
       "</style>\n",
       "<table border=\"1\" class=\"dataframe\">\n",
       "  <thead>\n",
       "    <tr style=\"text-align: right;\">\n",
       "      <th></th>\n",
       "      <th>Cuisines</th>\n",
       "    </tr>\n",
       "    <tr>\n",
       "      <th>City</th>\n",
       "      <th></th>\n",
       "    </tr>\n",
       "  </thead>\n",
       "  <tbody>\n",
       "    <tr>\n",
       "      <th>Abu Dhabi</th>\n",
       "      <td>IndianThai, Japanese, Chinese, Indonesian, Vie...</td>\n",
       "    </tr>\n",
       "    <tr>\n",
       "      <th>Agra</th>\n",
       "      <td>North Indian, MughlaiNorth Indian, MughlaiMugh...</td>\n",
       "    </tr>\n",
       "    <tr>\n",
       "      <th>Ahmedabad</th>\n",
       "      <td>Continental, Chinese, North IndianNorth Indian...</td>\n",
       "    </tr>\n",
       "    <tr>\n",
       "      <th>Albany</th>\n",
       "      <td>Steak, Tapas, Bar FoodJapanese, Steak, SushiJa...</td>\n",
       "    </tr>\n",
       "    <tr>\n",
       "      <th>Allahabad</th>\n",
       "      <td>Continental, ItalianNorth Indian, MughlaiMughl...</td>\n",
       "    </tr>\n",
       "    <tr>\n",
       "      <th>...</th>\n",
       "      <td>...</td>\n",
       "    </tr>\n",
       "    <tr>\n",
       "      <th>Weirton</th>\n",
       "      <td>Burger, Greek, Sandwich</td>\n",
       "    </tr>\n",
       "    <tr>\n",
       "      <th>Wellington City</th>\n",
       "      <td>French, KiwiEuropeanItalian, CafeAsianSeafood,...</td>\n",
       "    </tr>\n",
       "    <tr>\n",
       "      <th>Winchester Bay</th>\n",
       "      <td>Burger, Seafood, Steak</td>\n",
       "    </tr>\n",
       "    <tr>\n",
       "      <th>Yorkton</th>\n",
       "      <td>Asian</td>\n",
       "    </tr>\n",
       "    <tr>\n",
       "      <th>€¡stanbul</th>\n",
       "      <td>Italian, World CuisineBar FoodRestaurant CafeW...</td>\n",
       "    </tr>\n",
       "  </tbody>\n",
       "</table>\n",
       "<p>140 rows × 1 columns</p>\n",
       "</div>"
      ],
      "text/plain": [
       "                                                          Cuisines\n",
       "City                                                              \n",
       "Abu Dhabi        IndianThai, Japanese, Chinese, Indonesian, Vie...\n",
       "Agra             North Indian, MughlaiNorth Indian, MughlaiMugh...\n",
       "Ahmedabad        Continental, Chinese, North IndianNorth Indian...\n",
       "Albany           Steak, Tapas, Bar FoodJapanese, Steak, SushiJa...\n",
       "Allahabad        Continental, ItalianNorth Indian, MughlaiMughl...\n",
       "...                                                            ...\n",
       "Weirton                                    Burger, Greek, Sandwich\n",
       "Wellington City  French, KiwiEuropeanItalian, CafeAsianSeafood,...\n",
       "Winchester Bay                              Burger, Seafood, Steak\n",
       "Yorkton                                                      Asian\n",
       "€¡stanbul        Italian, World CuisineBar FoodRestaurant CafeW...\n",
       "\n",
       "[140 rows x 1 columns]"
      ]
     },
     "execution_count": 26,
     "metadata": {},
     "output_type": "execute_result"
    }
   ],
   "source": [
    "### Getting a city wise Groupby for the dataset and look at the most served cuisines in each city\n",
    "\n",
    "df.groupby('City')[['Cuisines']].sum()"
   ]
  },
  {
   "cell_type": "markdown",
   "id": "148b08bd",
   "metadata": {},
   "source": [
    "There are \"140\" Cities in the dataset. We can see the Most served Cuisines for all these \"Cities\"."
   ]
  },
  {
   "cell_type": "markdown",
   "id": "e2b9880f",
   "metadata": {},
   "source": [
    "Now lets get a value count of Cuisines served per \"City\" and Finally the top 10 cuisines(\".value_counts().nlargest(10)\") served across all cities."
   ]
  },
  {
   "cell_type": "code",
   "execution_count": 27,
   "id": "8207ec61",
   "metadata": {},
   "outputs": [
    {
     "data": {
      "text/plain": [
       "City       Cuisines                          \n",
       "Abu Dhabi  American                              2\n",
       "           Indian                                2\n",
       "           Italian, Pizza                        2\n",
       "           American, Desserts                    1\n",
       "           American, Mexican, Seafood            1\n",
       "                                                ..\n",
       "€¡stanbul  Italian, World Cuisine                1\n",
       "           Restaurant Cafe, Desserts             1\n",
       "           Restaurant Cafe, Turkish, Desserts    1\n",
       "           Turkish                               1\n",
       "           World Cuisine, Patisserie, Cafe       1\n",
       "Name: Cuisines, Length: 3023, dtype: int64"
      ]
     },
     "execution_count": 27,
     "metadata": {},
     "output_type": "execute_result"
    }
   ],
   "source": [
    "df.groupby('City')['Cuisines'].value_counts()"
   ]
  },
  {
   "cell_type": "code",
   "execution_count": 28,
   "id": "bb753f57",
   "metadata": {},
   "outputs": [
    {
     "data": {
      "text/plain": [
       "City       Cuisines                      \n",
       "New Delhi  North Indian                      658\n",
       "           North Indian, Chinese             284\n",
       "           Fast Food                         242\n",
       "           Chinese                           228\n",
       "           North Indian, Mughlai             207\n",
       "           Cafe                              158\n",
       "           Street Food                       123\n",
       "           Bakery                            122\n",
       "           North Indian, Mughlai, Chinese    120\n",
       "           Bakery, Desserts                  117\n",
       "Name: Cuisines, dtype: int64"
      ]
     },
     "execution_count": 28,
     "metadata": {},
     "output_type": "execute_result"
    }
   ],
   "source": [
    "df.groupby('City')['Cuisines'].value_counts().nlargest(10)"
   ]
  },
  {
   "cell_type": "markdown",
   "id": "5ba5ba12",
   "metadata": {},
   "source": [
    "Thus above is the list of \"The top 10 cuisines served across all cities\""
   ]
  },
  {
   "cell_type": "markdown",
   "id": "138f2721",
   "metadata": {},
   "source": [
    "# 7.What is the maximum and minimum number of cuisines that a restaurant serves? Also, which is the most served cuisine across the restaurant for each city?"
   ]
  },
  {
   "cell_type": "markdown",
   "id": "b3aa4559",
   "metadata": {},
   "source": [
    "Let us create a column \"No_Cusines\" that gives the count of cuisines served in each \"Restaurant\", thereafter the .mix() and .man() value for this column \"No_Cuisines\" gives the maximum and minimum number of cuisines seved per Restaurant."
   ]
  },
  {
   "cell_type": "code",
   "execution_count": 29,
   "id": "8f2a1383",
   "metadata": {},
   "outputs": [
    {
     "data": {
      "text/html": [
       "<div>\n",
       "<style scoped>\n",
       "    .dataframe tbody tr th:only-of-type {\n",
       "        vertical-align: middle;\n",
       "    }\n",
       "\n",
       "    .dataframe tbody tr th {\n",
       "        vertical-align: top;\n",
       "    }\n",
       "\n",
       "    .dataframe thead th {\n",
       "        text-align: right;\n",
       "    }\n",
       "</style>\n",
       "<table border=\"1\" class=\"dataframe\">\n",
       "  <thead>\n",
       "    <tr style=\"text-align: right;\">\n",
       "      <th></th>\n",
       "      <th>Restaurant ID</th>\n",
       "      <th>Restaurant Name</th>\n",
       "      <th>Country</th>\n",
       "      <th>City</th>\n",
       "      <th>Cuisines</th>\n",
       "      <th>Average Cost for two</th>\n",
       "      <th>Has Table booking</th>\n",
       "      <th>Has Online delivery</th>\n",
       "      <th>Price range</th>\n",
       "      <th>Aggregate rating</th>\n",
       "      <th>Rating color</th>\n",
       "      <th>Rating text</th>\n",
       "      <th>Votes</th>\n",
       "      <th>No_Cuisine</th>\n",
       "    </tr>\n",
       "  </thead>\n",
       "  <tbody>\n",
       "    <tr>\n",
       "      <th>0</th>\n",
       "      <td>7402935</td>\n",
       "      <td>Skye</td>\n",
       "      <td>Indonesia</td>\n",
       "      <td>Jakarta</td>\n",
       "      <td>Italian, Continental</td>\n",
       "      <td>800000</td>\n",
       "      <td>No</td>\n",
       "      <td>No</td>\n",
       "      <td>3</td>\n",
       "      <td>4.1</td>\n",
       "      <td>Green</td>\n",
       "      <td>Very Good</td>\n",
       "      <td>1498</td>\n",
       "      <td>2</td>\n",
       "    </tr>\n",
       "    <tr>\n",
       "      <th>1</th>\n",
       "      <td>7410290</td>\n",
       "      <td>Satoo - Hotel Shangri-La</td>\n",
       "      <td>Indonesia</td>\n",
       "      <td>Jakarta</td>\n",
       "      <td>Asian, Indonesian, Western</td>\n",
       "      <td>800000</td>\n",
       "      <td>No</td>\n",
       "      <td>No</td>\n",
       "      <td>3</td>\n",
       "      <td>4.6</td>\n",
       "      <td>Dark Green</td>\n",
       "      <td>Excellent</td>\n",
       "      <td>873</td>\n",
       "      <td>3</td>\n",
       "    </tr>\n",
       "  </tbody>\n",
       "</table>\n",
       "</div>"
      ],
      "text/plain": [
       "  Restaurant ID           Restaurant Name    Country     City  \\\n",
       "0       7402935                      Skye  Indonesia  Jakarta   \n",
       "1       7410290  Satoo - Hotel Shangri-La  Indonesia  Jakarta   \n",
       "\n",
       "                     Cuisines  Average Cost for two Has Table booking  \\\n",
       "0        Italian, Continental                800000                No   \n",
       "1  Asian, Indonesian, Western                800000                No   \n",
       "\n",
       "  Has Online delivery Price range  Aggregate rating Rating color Rating text  \\\n",
       "0                  No           3               4.1        Green   Very Good   \n",
       "1                  No           3               4.6   Dark Green   Excellent   \n",
       "\n",
       "   Votes  No_Cuisine  \n",
       "0   1498           2  \n",
       "1    873           3  "
      ]
     },
     "execution_count": 29,
     "metadata": {},
     "output_type": "execute_result"
    }
   ],
   "source": [
    "### lets Create a new column \"#Cuisines\" using lambda function to get the no of cuisines served in each column ...\n",
    "\n",
    "df['No_Cuisine'] = df['Cuisines'].apply(lambda x : len(x.split(',')))\n",
    "df.head(2)"
   ]
  },
  {
   "cell_type": "code",
   "execution_count": 30,
   "id": "2176ca92",
   "metadata": {},
   "outputs": [
    {
     "data": {
      "text/plain": [
       "8"
      ]
     },
     "execution_count": 30,
     "metadata": {},
     "output_type": "execute_result"
    }
   ],
   "source": [
    "### The Maximum number of Cuisines that a Restaurant serves is:\n",
    "\n",
    "df['No_Cuisine'].max()"
   ]
  },
  {
   "cell_type": "markdown",
   "id": "9898197c",
   "metadata": {},
   "source": [
    "The Maximum number of Cuisines that a Restaurant serves is : \"8\""
   ]
  },
  {
   "cell_type": "code",
   "execution_count": 31,
   "id": "2ecf257a",
   "metadata": {},
   "outputs": [
    {
     "data": {
      "text/plain": [
       "1"
      ]
     },
     "execution_count": 31,
     "metadata": {},
     "output_type": "execute_result"
    }
   ],
   "source": [
    "### The Minimum number of Cuisines that a Restaurant serves is:\n",
    "\n",
    "df['No_Cuisine'].min()"
   ]
  },
  {
   "cell_type": "markdown",
   "id": "e1320696",
   "metadata": {},
   "source": [
    "The Minimum number of Cuisines that a Restaurant serves is : \"1\""
   ]
  },
  {
   "cell_type": "markdown",
   "id": "7aefe347",
   "metadata": {},
   "source": [
    "In order to get the most served cuisine across the restaurant for each city, let us get a \"City\" & \"Restaurant\" wise Groupby of the df and look at the most served cuisines  across each city\n"
   ]
  },
  {
   "cell_type": "code",
   "execution_count": 32,
   "id": "d40c317c",
   "metadata": {},
   "outputs": [
    {
     "data": {
      "text/html": [
       "<div>\n",
       "<style scoped>\n",
       "    .dataframe tbody tr th:only-of-type {\n",
       "        vertical-align: middle;\n",
       "    }\n",
       "\n",
       "    .dataframe tbody tr th {\n",
       "        vertical-align: top;\n",
       "    }\n",
       "\n",
       "    .dataframe thead th {\n",
       "        text-align: right;\n",
       "    }\n",
       "</style>\n",
       "<table border=\"1\" class=\"dataframe\">\n",
       "  <thead>\n",
       "    <tr style=\"text-align: right;\">\n",
       "      <th></th>\n",
       "      <th></th>\n",
       "      <th>Cuisines</th>\n",
       "    </tr>\n",
       "    <tr>\n",
       "      <th>City</th>\n",
       "      <th>Restaurant Name</th>\n",
       "      <th></th>\n",
       "    </tr>\n",
       "  </thead>\n",
       "  <tbody>\n",
       "    <tr>\n",
       "      <th rowspan=\"5\" valign=\"top\">Abu Dhabi</th>\n",
       "      <th>Applebee's</th>\n",
       "      <td>American, Mexican, Seafood</td>\n",
       "    </tr>\n",
       "    <tr>\n",
       "      <th>Bait El Khetyar</th>\n",
       "      <td>Lebanese, Arabian, Middle Eastern</td>\n",
       "    </tr>\n",
       "    <tr>\n",
       "      <th>Cho Gao - Crowne Plaza Abu Dhabi</th>\n",
       "      <td>Thai, Japanese, Chinese, Indonesian, Vietnamese</td>\n",
       "    </tr>\n",
       "    <tr>\n",
       "      <th>Denny's</th>\n",
       "      <td>American</td>\n",
       "    </tr>\n",
       "    <tr>\n",
       "      <th>Famous Dave's Barbecue</th>\n",
       "      <td>American</td>\n",
       "    </tr>\n",
       "    <tr>\n",
       "      <th>...</th>\n",
       "      <th>...</th>\n",
       "      <td>...</td>\n",
       "    </tr>\n",
       "    <tr>\n",
       "      <th rowspan=\"5\" valign=\"top\">€¡stanbul</th>\n",
       "      <th>Leman KÌ_ltÌ_r</th>\n",
       "      <td>Restaurant Cafe</td>\n",
       "    </tr>\n",
       "    <tr>\n",
       "      <th>Naml€± Gurme</th>\n",
       "      <td>Turkish</td>\n",
       "    </tr>\n",
       "    <tr>\n",
       "      <th>Starbucks</th>\n",
       "      <td>Cafe</td>\n",
       "    </tr>\n",
       "    <tr>\n",
       "      <th>Valonia</th>\n",
       "      <td>Restaurant Cafe, Desserts</td>\n",
       "    </tr>\n",
       "    <tr>\n",
       "      <th>Walter's Coffee Roastery</th>\n",
       "      <td>Cafe</td>\n",
       "    </tr>\n",
       "  </tbody>\n",
       "</table>\n",
       "<p>7964 rows × 1 columns</p>\n",
       "</div>"
      ],
      "text/plain": [
       "                                                                                   Cuisines\n",
       "City      Restaurant Name                                                                  \n",
       "Abu Dhabi Applebee's                                             American, Mexican, Seafood\n",
       "          Bait El Khetyar                                 Lebanese, Arabian, Middle Eastern\n",
       "          Cho Gao - Crowne Plaza Abu Dhabi  Thai, Japanese, Chinese, Indonesian, Vietnamese\n",
       "          Denny's                                                                  American\n",
       "          Famous Dave's Barbecue                                                   American\n",
       "...                                                                                     ...\n",
       "€¡stanbul Leman KÌ_ltÌ_r                                                    Restaurant Cafe\n",
       "          Naml€± Gurme                                                              Turkish\n",
       "          Starbucks                                                                    Cafe\n",
       "          Valonia                                                 Restaurant Cafe, Desserts\n",
       "          Walter's Coffee Roastery                                                     Cafe\n",
       "\n",
       "[7964 rows x 1 columns]"
      ]
     },
     "execution_count": 32,
     "metadata": {},
     "output_type": "execute_result"
    }
   ],
   "source": [
    "# Getting a \"City\" & \"Restaurant\" wise Groupby of the df and look at the most served cuisines  across each city\n",
    "\n",
    "df.groupby(['City','Restaurant Name'])[['Cuisines']].max()"
   ]
  },
  {
   "cell_type": "markdown",
   "id": "59b32123",
   "metadata": {},
   "source": [
    "Thus the above table gives the \"Most served Cuisines\" across \"Restaurants\" in each \"City\""
   ]
  },
  {
   "cell_type": "code",
   "execution_count": 33,
   "id": "62af20a0",
   "metadata": {},
   "outputs": [
    {
     "data": {
      "text/plain": [
       "'World Cuisine, Patisserie, Cafe'"
      ]
     },
     "execution_count": 33,
     "metadata": {},
     "output_type": "execute_result"
    }
   ],
   "source": [
    "df.groupby(['City','Restaurant Name'])['Cuisines'].sum().max()"
   ]
  },
  {
   "cell_type": "markdown",
   "id": "c258a7fd",
   "metadata": {},
   "source": [
    "The most served Cuisine among all Cities is : \"World Cuisine, Patisserie, Cafe\""
   ]
  },
  {
   "cell_type": "code",
   "execution_count": 34,
   "id": "00b943e2",
   "metadata": {},
   "outputs": [],
   "source": [
    "### Converting \"No_cuisine\" to Category dtype for further use ..\n",
    "\n",
    "df.No_Cuisine.value_counts()\n",
    "df['No_Cuisine']   = pd.Categorical(df['No_Cuisine'])"
   ]
  },
  {
   "cell_type": "markdown",
   "id": "ef5e1870",
   "metadata": {},
   "source": [
    "# 8.What is the distribution cost across the restaurants?\n"
   ]
  },
  {
   "cell_type": "markdown",
   "id": "d0c97379",
   "metadata": {},
   "source": [
    "Lets look at the distribution of \"Average Cost\" across the Restaurants by plotting a distribution plot and Boxplot :"
   ]
  },
  {
   "cell_type": "code",
   "execution_count": 35,
   "id": "946e7caf",
   "metadata": {},
   "outputs": [
    {
     "data": {
      "text/plain": [
       "Text(0.5, 0.98, 'AVERAGE COST FOR TWO')"
      ]
     },
     "execution_count": 35,
     "metadata": {},
     "output_type": "execute_result"
    },
    {
     "data": {
      "image/png": "[encoded data removed]",
      "text/plain": [
       "<Figure size 720x432 with 2 Axes>"
      ]
     },
     "metadata": {
      "needs_background": "light"
     },
     "output_type": "display_data"
    }
   ],
   "source": [
    "### Plotting distplot and box plot for \"Average Cost for two\" ... \n",
    "\n",
    "plt.rcParams['figure.figsize'] = (10,6)\n",
    "fig, axes = plt.subplots(1, 2)\n",
    "\n",
    "sns.distplot(df['Average Cost for two'], ax = axes[0])\n",
    "sns.boxplot(df['Average Cost for two'], ax = axes[1])\n",
    "axes[0].set_title(\"Density plot\")\n",
    "axes[1].set_title(\"Boxplot\")\n",
    "plt.suptitle(\"AVERAGE COST FOR TWO\")"
   ]
  },
  {
   "cell_type": "markdown",
   "id": "1e33d2a9",
   "metadata": {},
   "source": [
    "This distribution seems to be affected by \"Outliers\". "
   ]
  },
  {
   "cell_type": "markdown",
   "id": "a241329b",
   "metadata": {},
   "source": [
    "lets us get a \"Statistical summary\" of the variables, remove \"Outliers\" to get a better understanding of the distribution of \"Average Cost\" across \"Restaurants\"."
   ]
  },
  {
   "cell_type": "markdown",
   "id": "97be1583",
   "metadata": {},
   "source": [
    "# Statistical Summary :"
   ]
  },
  {
   "cell_type": "code",
   "execution_count": 36,
   "id": "c9b2d895",
   "metadata": {},
   "outputs": [
    {
     "data": {
      "text/html": [
       "<div>\n",
       "<style scoped>\n",
       "    .dataframe tbody tr th:only-of-type {\n",
       "        vertical-align: middle;\n",
       "    }\n",
       "\n",
       "    .dataframe tbody tr th {\n",
       "        vertical-align: top;\n",
       "    }\n",
       "\n",
       "    .dataframe thead th {\n",
       "        text-align: right;\n",
       "    }\n",
       "</style>\n",
       "<table border=\"1\" class=\"dataframe\">\n",
       "  <thead>\n",
       "    <tr style=\"text-align: right;\">\n",
       "      <th></th>\n",
       "      <th>Average Cost for two</th>\n",
       "      <th>Aggregate rating</th>\n",
       "      <th>Votes</th>\n",
       "    </tr>\n",
       "  </thead>\n",
       "  <tbody>\n",
       "    <tr>\n",
       "      <th>count</th>\n",
       "      <td>9541.000000</td>\n",
       "      <td>9541.000000</td>\n",
       "      <td>9541.000000</td>\n",
       "    </tr>\n",
       "    <tr>\n",
       "      <th>mean</th>\n",
       "      <td>1200.368096</td>\n",
       "      <td>2.665088</td>\n",
       "      <td>156.707892</td>\n",
       "    </tr>\n",
       "    <tr>\n",
       "      <th>std</th>\n",
       "      <td>16129.588655</td>\n",
       "      <td>1.516596</td>\n",
       "      <td>430.180201</td>\n",
       "    </tr>\n",
       "    <tr>\n",
       "      <th>min</th>\n",
       "      <td>0.000000</td>\n",
       "      <td>0.000000</td>\n",
       "      <td>0.000000</td>\n",
       "    </tr>\n",
       "    <tr>\n",
       "      <th>25%</th>\n",
       "      <td>250.000000</td>\n",
       "      <td>2.500000</td>\n",
       "      <td>5.000000</td>\n",
       "    </tr>\n",
       "    <tr>\n",
       "      <th>50%</th>\n",
       "      <td>400.000000</td>\n",
       "      <td>3.200000</td>\n",
       "      <td>31.000000</td>\n",
       "    </tr>\n",
       "    <tr>\n",
       "      <th>75%</th>\n",
       "      <td>700.000000</td>\n",
       "      <td>3.700000</td>\n",
       "      <td>130.000000</td>\n",
       "    </tr>\n",
       "    <tr>\n",
       "      <th>max</th>\n",
       "      <td>800000.000000</td>\n",
       "      <td>4.900000</td>\n",
       "      <td>10934.000000</td>\n",
       "    </tr>\n",
       "  </tbody>\n",
       "</table>\n",
       "</div>"
      ],
      "text/plain": [
       "       Average Cost for two  Aggregate rating         Votes\n",
       "count           9541.000000       9541.000000   9541.000000\n",
       "mean            1200.368096          2.665088    156.707892\n",
       "std            16129.588655          1.516596    430.180201\n",
       "min                0.000000          0.000000      0.000000\n",
       "25%              250.000000          2.500000      5.000000\n",
       "50%              400.000000          3.200000     31.000000\n",
       "75%              700.000000          3.700000    130.000000\n",
       "max           800000.000000          4.900000  10934.000000"
      ]
     },
     "execution_count": 36,
     "metadata": {},
     "output_type": "execute_result"
    }
   ],
   "source": [
    "###Getting a breif Statistical summary of the dataset.\n",
    "\n",
    "df.describe()"
   ]
  },
  {
   "cell_type": "markdown",
   "id": "bc8b8643",
   "metadata": {},
   "source": [
    "# Outlier Treatment:"
   ]
  },
  {
   "cell_type": "markdown",
   "id": "cc99d652",
   "metadata": {},
   "source": [
    "Statistical summary shows a mean of \"1200\", min value of \"0\", max value of \"8000\" and a huge std of \"16129.58\". The distribution is largely affected by \"outliers\". Lets us filter the \"Numeric\" Columns in a dataset df[Continous] and remove Outliers from all numeric variables. "
   ]
  },
  {
   "cell_type": "code",
   "execution_count": 37,
   "id": "88582b25",
   "metadata": {},
   "outputs": [
    {
     "data": {
      "text/html": [
       "<div>\n",
       "<style scoped>\n",
       "    .dataframe tbody tr th:only-of-type {\n",
       "        vertical-align: middle;\n",
       "    }\n",
       "\n",
       "    .dataframe tbody tr th {\n",
       "        vertical-align: top;\n",
       "    }\n",
       "\n",
       "    .dataframe thead th {\n",
       "        text-align: right;\n",
       "    }\n",
       "</style>\n",
       "<table border=\"1\" class=\"dataframe\">\n",
       "  <thead>\n",
       "    <tr style=\"text-align: right;\">\n",
       "      <th></th>\n",
       "      <th>Average Cost for two</th>\n",
       "      <th>Aggregate rating</th>\n",
       "      <th>Votes</th>\n",
       "    </tr>\n",
       "  </thead>\n",
       "  <tbody>\n",
       "    <tr>\n",
       "      <th>0</th>\n",
       "      <td>800000</td>\n",
       "      <td>4.1</td>\n",
       "      <td>1498</td>\n",
       "    </tr>\n",
       "    <tr>\n",
       "      <th>1</th>\n",
       "      <td>800000</td>\n",
       "      <td>4.6</td>\n",
       "      <td>873</td>\n",
       "    </tr>\n",
       "  </tbody>\n",
       "</table>\n",
       "</div>"
      ],
      "text/plain": [
       "   Average Cost for two  Aggregate rating  Votes\n",
       "0                800000               4.1   1498\n",
       "1                800000               4.6    873"
      ]
     },
     "execution_count": 37,
     "metadata": {},
     "output_type": "execute_result"
    }
   ],
   "source": [
    "### Separating numeric variables for Outlier treatment .\n",
    "\n",
    "Continous = df.describe().columns\n",
    "df[Continous].head(2)"
   ]
  },
  {
   "cell_type": "code",
   "execution_count": 38,
   "id": "cc141730",
   "metadata": {},
   "outputs": [],
   "source": [
    "### Outlier treatment:\n",
    "\n",
    "for i in df[Continous]:\n",
    "    q1,q3 = df[i].quantile([0.25,0.75])\n",
    "    iqr = q3 - q1\n",
    "    upper = q3 + 1.5* iqr\n",
    "    lower = q1 - 1.5* iqr\n",
    "    df[i] = np.where(df[i]>upper, upper,df[i])\n",
    "    df[i] = np.where(df[i]<lower,lower,df[i])\n",
    "    "
   ]
  },
  {
   "cell_type": "code",
   "execution_count": 39,
   "id": "d317aef0",
   "metadata": {},
   "outputs": [
    {
     "data": {
      "text/plain": [
       "Text(0.5, 0.98, 'AVERAGE COST FOR TWO')"
      ]
     },
     "execution_count": 39,
     "metadata": {},
     "output_type": "execute_result"
    },
    {
     "data": {
      "image/png": "[encoded data removed]",
      "text/plain": [
       "<Figure size 720x432 with 2 Axes>"
      ]
     },
     "metadata": {
      "needs_background": "light"
     },
     "output_type": "display_data"
    }
   ],
   "source": [
    "#### Plotting again after \"outlier Treatment\" :\n",
    "\n",
    "plt.rcParams['figure.figsize'] = (10,6)\n",
    "fig, axes = plt.subplots(1, 2)\n",
    "\n",
    "sns.distplot(df['Average Cost for two'], ax = axes[0])\n",
    "sns.boxplot(df['Average Cost for two'], ax = axes[1])\n",
    "axes[0].set_title(\"Density plot\")\n",
    "axes[1].set_title(\"Boxplot\")\n",
    "plt.suptitle(\"AVERAGE COST FOR TWO\")"
   ]
  },
  {
   "cell_type": "markdown",
   "id": "5c350a76",
   "metadata": {},
   "source": [
    "Thus for most of the data, the \"Average Cost for two\" ranges betweem  0 to 1500"
   ]
  },
  {
   "cell_type": "markdown",
   "id": "9fca3322",
   "metadata": {},
   "source": [
    "However \"Average Cost for two\" across different countries is ascribed in different \"Currencies\", Thus we may not make certain assumptions about distribution of \"Cost\" across the \"Restaurants\""
   ]
  },
  {
   "cell_type": "code",
   "execution_count": 40,
   "id": "4f71616e",
   "metadata": {},
   "outputs": [],
   "source": [
    "### Exporting and preserving the cleaned data before making further changes for \"Dashboarding\" in Tableau ...\n",
    "df.head(2)\n",
    "df.to_excel('RestaurantData.xlsx')"
   ]
  },
  {
   "cell_type": "markdown",
   "id": "3cf04012",
   "metadata": {},
   "source": [
    "# 9.How ratings are distributed among the various factors?"
   ]
  },
  {
   "cell_type": "markdown",
   "id": "7abbec25",
   "metadata": {},
   "source": [
    "To understand the distribution of \"Aggregate rating\", Let us plot a pair plot for the dataset."
   ]
  },
  {
   "cell_type": "code",
   "execution_count": 41,
   "id": "07ed550c",
   "metadata": {},
   "outputs": [
    {
     "data": {
      "text/plain": [
       "<seaborn.axisgrid.PairGrid at 0x2019d4cc730>"
      ]
     },
     "execution_count": 41,
     "metadata": {},
     "output_type": "execute_result"
    },
    {
     "data": {
      "image/png": "[encoded data removed]",
      "text/plain": [
       "<Figure size 638.5x540 with 12 Axes>"
      ]
     },
     "metadata": {
      "needs_background": "light"
     },
     "output_type": "display_data"
    }
   ],
   "source": [
    "sns.pairplot(df, hue = 'Has Table booking')"
   ]
  },
  {
   "cell_type": "markdown",
   "id": "a3e9518d",
   "metadata": {},
   "source": [
    "Let us plot a \"Heatmap\" to study \"Corelation\" between variables."
   ]
  },
  {
   "cell_type": "code",
   "execution_count": 42,
   "id": "081f7611",
   "metadata": {},
   "outputs": [
    {
     "data": {
      "text/html": [
       "<div>\n",
       "<style scoped>\n",
       "    .dataframe tbody tr th:only-of-type {\n",
       "        vertical-align: middle;\n",
       "    }\n",
       "\n",
       "    .dataframe tbody tr th {\n",
       "        vertical-align: top;\n",
       "    }\n",
       "\n",
       "    .dataframe thead th {\n",
       "        text-align: right;\n",
       "    }\n",
       "</style>\n",
       "<table border=\"1\" class=\"dataframe\">\n",
       "  <thead>\n",
       "    <tr style=\"text-align: right;\">\n",
       "      <th></th>\n",
       "      <th>Average Cost for two</th>\n",
       "      <th>Aggregate rating</th>\n",
       "      <th>Votes</th>\n",
       "    </tr>\n",
       "  </thead>\n",
       "  <tbody>\n",
       "    <tr>\n",
       "      <th>Average Cost for two</th>\n",
       "      <td>1.000000</td>\n",
       "      <td>0.289022</td>\n",
       "      <td>0.358306</td>\n",
       "    </tr>\n",
       "    <tr>\n",
       "      <th>Aggregate rating</th>\n",
       "      <td>0.289022</td>\n",
       "      <td>1.000000</td>\n",
       "      <td>0.611190</td>\n",
       "    </tr>\n",
       "    <tr>\n",
       "      <th>Votes</th>\n",
       "      <td>0.358306</td>\n",
       "      <td>0.611190</td>\n",
       "      <td>1.000000</td>\n",
       "    </tr>\n",
       "  </tbody>\n",
       "</table>\n",
       "</div>"
      ],
      "text/plain": [
       "                      Average Cost for two  Aggregate rating     Votes\n",
       "Average Cost for two              1.000000          0.289022  0.358306\n",
       "Aggregate rating                  0.289022          1.000000  0.611190\n",
       "Votes                             0.358306          0.611190  1.000000"
      ]
     },
     "execution_count": 42,
     "metadata": {},
     "output_type": "execute_result"
    }
   ],
   "source": [
    "### Estimating \"corelation\" between variables\n",
    "df.corr()"
   ]
  },
  {
   "cell_type": "code",
   "execution_count": 43,
   "id": "1fbf0578",
   "metadata": {},
   "outputs": [
    {
     "data": {
      "text/plain": [
       "<AxesSubplot:>"
      ]
     },
     "execution_count": 43,
     "metadata": {},
     "output_type": "execute_result"
    },
    {
     "data": {
      "image/png": "[encoded data removed]",
      "text/plain": [
       "<Figure size 720x432 with 2 Axes>"
      ]
     },
     "metadata": {
      "needs_background": "light"
     },
     "output_type": "display_data"
    }
   ],
   "source": [
    "### Plotting corelation : \n",
    "sns.heatmap(df.corr())"
   ]
  },
  {
   "cell_type": "markdown",
   "id": "c7478c96",
   "metadata": {},
   "source": [
    "# Normalisation:\n",
    "\n",
    "To obtain optimum result we can \"Normalize\" the continous variables prior to \"Modelling\""
   ]
  },
  {
   "cell_type": "code",
   "execution_count": 44,
   "id": "3d44e019",
   "metadata": {},
   "outputs": [
    {
     "data": {
      "text/html": [
       "<div>\n",
       "<style scoped>\n",
       "    .dataframe tbody tr th:only-of-type {\n",
       "        vertical-align: middle;\n",
       "    }\n",
       "\n",
       "    .dataframe tbody tr th {\n",
       "        vertical-align: top;\n",
       "    }\n",
       "\n",
       "    .dataframe thead th {\n",
       "        text-align: right;\n",
       "    }\n",
       "</style>\n",
       "<table border=\"1\" class=\"dataframe\">\n",
       "  <thead>\n",
       "    <tr style=\"text-align: right;\">\n",
       "      <th></th>\n",
       "      <th>Average Cost for two</th>\n",
       "      <th>Aggregate rating</th>\n",
       "      <th>Votes</th>\n",
       "    </tr>\n",
       "  </thead>\n",
       "  <tbody>\n",
       "    <tr>\n",
       "      <th>0</th>\n",
       "      <td>1375.0</td>\n",
       "      <td>4.1</td>\n",
       "      <td>317.5</td>\n",
       "    </tr>\n",
       "    <tr>\n",
       "      <th>1</th>\n",
       "      <td>1375.0</td>\n",
       "      <td>4.6</td>\n",
       "      <td>317.5</td>\n",
       "    </tr>\n",
       "    <tr>\n",
       "      <th>2</th>\n",
       "      <td>1375.0</td>\n",
       "      <td>4.9</td>\n",
       "      <td>317.5</td>\n",
       "    </tr>\n",
       "    <tr>\n",
       "      <th>3</th>\n",
       "      <td>1375.0</td>\n",
       "      <td>4.2</td>\n",
       "      <td>317.5</td>\n",
       "    </tr>\n",
       "    <tr>\n",
       "      <th>4</th>\n",
       "      <td>1375.0</td>\n",
       "      <td>4.3</td>\n",
       "      <td>243.0</td>\n",
       "    </tr>\n",
       "  </tbody>\n",
       "</table>\n",
       "</div>"
      ],
      "text/plain": [
       "   Average Cost for two  Aggregate rating  Votes\n",
       "0                1375.0               4.1  317.5\n",
       "1                1375.0               4.6  317.5\n",
       "2                1375.0               4.9  317.5\n",
       "3                1375.0               4.2  317.5\n",
       "4                1375.0               4.3  243.0"
      ]
     },
     "execution_count": 44,
     "metadata": {},
     "output_type": "execute_result"
    }
   ],
   "source": [
    "### Importing \"Z score \" from scipy.stats\n",
    "from scipy.stats import zscore\n",
    "df[Continous].head()"
   ]
  },
  {
   "cell_type": "code",
   "execution_count": 45,
   "id": "2287f78c",
   "metadata": {},
   "outputs": [
    {
     "data": {
      "text/html": [
       "<div>\n",
       "<style scoped>\n",
       "    .dataframe tbody tr th:only-of-type {\n",
       "        vertical-align: middle;\n",
       "    }\n",
       "\n",
       "    .dataframe tbody tr th {\n",
       "        vertical-align: top;\n",
       "    }\n",
       "\n",
       "    .dataframe thead th {\n",
       "        text-align: right;\n",
       "    }\n",
       "</style>\n",
       "<table border=\"1\" class=\"dataframe\">\n",
       "  <thead>\n",
       "    <tr style=\"text-align: right;\">\n",
       "      <th></th>\n",
       "      <th>Average Cost for two</th>\n",
       "      <th>Aggregate rating</th>\n",
       "      <th>Votes</th>\n",
       "    </tr>\n",
       "  </thead>\n",
       "  <tbody>\n",
       "    <tr>\n",
       "      <th>0</th>\n",
       "      <td>2.249647</td>\n",
       "      <td>1.027526</td>\n",
       "      <td>2.128950</td>\n",
       "    </tr>\n",
       "    <tr>\n",
       "      <th>1</th>\n",
       "      <td>2.249647</td>\n",
       "      <td>1.429746</td>\n",
       "      <td>2.128950</td>\n",
       "    </tr>\n",
       "    <tr>\n",
       "      <th>2</th>\n",
       "      <td>2.249647</td>\n",
       "      <td>1.671078</td>\n",
       "      <td>2.128950</td>\n",
       "    </tr>\n",
       "    <tr>\n",
       "      <th>3</th>\n",
       "      <td>2.249647</td>\n",
       "      <td>1.107970</td>\n",
       "      <td>2.128950</td>\n",
       "    </tr>\n",
       "    <tr>\n",
       "      <th>4</th>\n",
       "      <td>2.249647</td>\n",
       "      <td>1.188414</td>\n",
       "      <td>1.444827</td>\n",
       "    </tr>\n",
       "  </tbody>\n",
       "</table>\n",
       "</div>"
      ],
      "text/plain": [
       "   Average Cost for two  Aggregate rating     Votes\n",
       "0              2.249647          1.027526  2.128950\n",
       "1              2.249647          1.429746  2.128950\n",
       "2              2.249647          1.671078  2.128950\n",
       "3              2.249647          1.107970  2.128950\n",
       "4              2.249647          1.188414  1.444827"
      ]
     },
     "execution_count": 45,
     "metadata": {},
     "output_type": "execute_result"
    }
   ],
   "source": [
    "# Applying zscore to df[continous]\n",
    "df[Continous].apply(zscore).head()"
   ]
  },
  {
   "cell_type": "code",
   "execution_count": 46,
   "id": "fc4bcd33",
   "metadata": {},
   "outputs": [
    {
     "data": {
      "text/html": [
       "<div>\n",
       "<style scoped>\n",
       "    .dataframe tbody tr th:only-of-type {\n",
       "        vertical-align: middle;\n",
       "    }\n",
       "\n",
       "    .dataframe tbody tr th {\n",
       "        vertical-align: top;\n",
       "    }\n",
       "\n",
       "    .dataframe thead th {\n",
       "        text-align: right;\n",
       "    }\n",
       "</style>\n",
       "<table border=\"1\" class=\"dataframe\">\n",
       "  <thead>\n",
       "    <tr style=\"text-align: right;\">\n",
       "      <th></th>\n",
       "      <th>Average Cost for two</th>\n",
       "      <th>Aggregate rating</th>\n",
       "      <th>Votes</th>\n",
       "    </tr>\n",
       "  </thead>\n",
       "  <tbody>\n",
       "    <tr>\n",
       "      <th>count</th>\n",
       "      <td>9541.0</td>\n",
       "      <td>9541.0</td>\n",
       "      <td>9541.0</td>\n",
       "    </tr>\n",
       "    <tr>\n",
       "      <th>mean</th>\n",
       "      <td>0.0</td>\n",
       "      <td>0.0</td>\n",
       "      <td>0.0</td>\n",
       "    </tr>\n",
       "    <tr>\n",
       "      <th>std</th>\n",
       "      <td>1.0</td>\n",
       "      <td>1.0</td>\n",
       "      <td>1.0</td>\n",
       "    </tr>\n",
       "    <tr>\n",
       "      <th>min</th>\n",
       "      <td>-1.0</td>\n",
       "      <td>-2.0</td>\n",
       "      <td>-1.0</td>\n",
       "    </tr>\n",
       "    <tr>\n",
       "      <th>25%</th>\n",
       "      <td>-1.0</td>\n",
       "      <td>-0.0</td>\n",
       "      <td>-1.0</td>\n",
       "    </tr>\n",
       "    <tr>\n",
       "      <th>50%</th>\n",
       "      <td>-0.0</td>\n",
       "      <td>0.0</td>\n",
       "      <td>-1.0</td>\n",
       "    </tr>\n",
       "    <tr>\n",
       "      <th>75%</th>\n",
       "      <td>0.0</td>\n",
       "      <td>1.0</td>\n",
       "      <td>0.0</td>\n",
       "    </tr>\n",
       "    <tr>\n",
       "      <th>max</th>\n",
       "      <td>2.0</td>\n",
       "      <td>2.0</td>\n",
       "      <td>2.0</td>\n",
       "    </tr>\n",
       "  </tbody>\n",
       "</table>\n",
       "</div>"
      ],
      "text/plain": [
       "       Average Cost for two  Aggregate rating   Votes\n",
       "count                9541.0            9541.0  9541.0\n",
       "mean                    0.0               0.0     0.0\n",
       "std                     1.0               1.0     1.0\n",
       "min                    -1.0              -2.0    -1.0\n",
       "25%                    -1.0              -0.0    -1.0\n",
       "50%                    -0.0               0.0    -1.0\n",
       "75%                     0.0               1.0     0.0\n",
       "max                     2.0               2.0     2.0"
      ]
     },
     "execution_count": 46,
     "metadata": {},
     "output_type": "execute_result"
    }
   ],
   "source": [
    "### Rounding up  we get means = 0 ,std = 1 i.e  (N~(0,1))\n",
    "df[Continous].apply(zscore).describe().round()"
   ]
  },
  {
   "cell_type": "markdown",
   "id": "e75acc29",
   "metadata": {},
   "source": [
    "Post Normalisation the \"Mean\" of all Continous Variables is \"0\" and the \"Std\" is \"1\" ie,"
   ]
  },
  {
   "cell_type": "markdown",
   "id": "c2eea5a1",
   "metadata": {},
   "source": [
    "All continous variable are assuming \"Normal Distribution\" (N~(0,1))"
   ]
  },
  {
   "cell_type": "markdown",
   "id": "8fd57e3a",
   "metadata": {},
   "source": [
    "# Label Encoding:"
   ]
  },
  {
   "cell_type": "markdown",
   "id": "58981793",
   "metadata": {},
   "source": [
    "Let us convert all the \"Categorical\" variables to \"Indicator\" Variables by \"LabelEncoding\" to improve the efficiency of the \"Model\", since the \"Model\" cannot comprehend \"String\" variables."
   ]
  },
  {
   "cell_type": "code",
   "execution_count": 47,
   "id": "650e153a",
   "metadata": {},
   "outputs": [],
   "source": [
    "### Importing \"LabelEncoder\" from sklearn.preprocessing\n",
    "\n",
    "from sklearn.preprocessing import LabelEncoder\n",
    "encode = LabelEncoder()"
   ]
  },
  {
   "cell_type": "code",
   "execution_count": 48,
   "id": "153f55d4",
   "metadata": {},
   "outputs": [
    {
     "data": {
      "text/html": [
       "<div>\n",
       "<style scoped>\n",
       "    .dataframe tbody tr th:only-of-type {\n",
       "        vertical-align: middle;\n",
       "    }\n",
       "\n",
       "    .dataframe tbody tr th {\n",
       "        vertical-align: top;\n",
       "    }\n",
       "\n",
       "    .dataframe thead th {\n",
       "        text-align: right;\n",
       "    }\n",
       "</style>\n",
       "<table border=\"1\" class=\"dataframe\">\n",
       "  <thead>\n",
       "    <tr style=\"text-align: right;\">\n",
       "      <th></th>\n",
       "      <th>Restaurant ID</th>\n",
       "      <th>Restaurant Name</th>\n",
       "      <th>Country</th>\n",
       "      <th>City</th>\n",
       "      <th>Cuisines</th>\n",
       "      <th>Average Cost for two</th>\n",
       "      <th>Has Table booking</th>\n",
       "      <th>Has Online delivery</th>\n",
       "      <th>Price range</th>\n",
       "      <th>Aggregate rating</th>\n",
       "      <th>Rating color</th>\n",
       "      <th>Rating text</th>\n",
       "      <th>Votes</th>\n",
       "      <th>No_Cuisine</th>\n",
       "    </tr>\n",
       "  </thead>\n",
       "  <tbody>\n",
       "    <tr>\n",
       "      <th>0</th>\n",
       "      <td>5006</td>\n",
       "      <td>Skye</td>\n",
       "      <td>4</td>\n",
       "      <td>59</td>\n",
       "      <td>1044</td>\n",
       "      <td>1375.0</td>\n",
       "      <td>0</td>\n",
       "      <td>0</td>\n",
       "      <td>3</td>\n",
       "      <td>4.1</td>\n",
       "      <td>1</td>\n",
       "      <td>5</td>\n",
       "      <td>317.5</td>\n",
       "      <td>2</td>\n",
       "    </tr>\n",
       "    <tr>\n",
       "      <th>1</th>\n",
       "      <td>5008</td>\n",
       "      <td>Satoo - Hotel Shangri-La</td>\n",
       "      <td>4</td>\n",
       "      <td>59</td>\n",
       "      <td>136</td>\n",
       "      <td>1375.0</td>\n",
       "      <td>0</td>\n",
       "      <td>0</td>\n",
       "      <td>3</td>\n",
       "      <td>4.6</td>\n",
       "      <td>0</td>\n",
       "      <td>1</td>\n",
       "      <td>317.5</td>\n",
       "      <td>3</td>\n",
       "    </tr>\n",
       "    <tr>\n",
       "      <th>2</th>\n",
       "      <td>5011</td>\n",
       "      <td>Sushi Masa</td>\n",
       "      <td>4</td>\n",
       "      <td>59</td>\n",
       "      <td>1782</td>\n",
       "      <td>1375.0</td>\n",
       "      <td>0</td>\n",
       "      <td>0</td>\n",
       "      <td>3</td>\n",
       "      <td>4.9</td>\n",
       "      <td>0</td>\n",
       "      <td>1</td>\n",
       "      <td>317.5</td>\n",
       "      <td>2</td>\n",
       "    </tr>\n",
       "    <tr>\n",
       "      <th>3</th>\n",
       "      <td>5012</td>\n",
       "      <td>3 Wise Monkeys</td>\n",
       "      <td>4</td>\n",
       "      <td>59</td>\n",
       "      <td>1111</td>\n",
       "      <td>1375.0</td>\n",
       "      <td>0</td>\n",
       "      <td>0</td>\n",
       "      <td>3</td>\n",
       "      <td>4.2</td>\n",
       "      <td>1</td>\n",
       "      <td>5</td>\n",
       "      <td>317.5</td>\n",
       "      <td>1</td>\n",
       "    </tr>\n",
       "    <tr>\n",
       "      <th>4</th>\n",
       "      <td>5013</td>\n",
       "      <td>Avec Moi Restaurant and Bar</td>\n",
       "      <td>4</td>\n",
       "      <td>59</td>\n",
       "      <td>923</td>\n",
       "      <td>1375.0</td>\n",
       "      <td>0</td>\n",
       "      <td>0</td>\n",
       "      <td>3</td>\n",
       "      <td>4.3</td>\n",
       "      <td>1</td>\n",
       "      <td>5</td>\n",
       "      <td>243.0</td>\n",
       "      <td>2</td>\n",
       "    </tr>\n",
       "  </tbody>\n",
       "</table>\n",
       "</div>"
      ],
      "text/plain": [
       "   Restaurant ID              Restaurant Name  Country  City  Cuisines  \\\n",
       "0           5006                         Skye        4    59      1044   \n",
       "1           5008     Satoo - Hotel Shangri-La        4    59       136   \n",
       "2           5011                   Sushi Masa        4    59      1782   \n",
       "3           5012               3 Wise Monkeys        4    59      1111   \n",
       "4           5013  Avec Moi Restaurant and Bar        4    59       923   \n",
       "\n",
       "   Average Cost for two  Has Table booking  Has Online delivery Price range  \\\n",
       "0                1375.0                  0                    0           3   \n",
       "1                1375.0                  0                    0           3   \n",
       "2                1375.0                  0                    0           3   \n",
       "3                1375.0                  0                    0           3   \n",
       "4                1375.0                  0                    0           3   \n",
       "\n",
       "   Aggregate rating  Rating color  Rating text  Votes No_Cuisine  \n",
       "0               4.1             1            5  317.5          2  \n",
       "1               4.6             0            1  317.5          3  \n",
       "2               4.9             0            1  317.5          2  \n",
       "3               4.2             1            5  317.5          1  \n",
       "4               4.3             1            5  243.0          2  "
      ]
     },
     "execution_count": 48,
     "metadata": {},
     "output_type": "execute_result"
    }
   ],
   "source": [
    "### Converting the Categorical variables into \"Indicator\" variables by \"Label Encoding\"\n",
    "\n",
    "df['Restaurant ID'] = encode.fit_transform(df['Restaurant ID'])\n",
    "#df['Restaurant Name'] = encode.fit_transform(df['Restaurant Name'])\n",
    "df['Country'] = encode.fit_transform(df['Country'])\n",
    "df['City'] = encode.fit_transform(df['City'])\n",
    "df['Cuisines'] = encode.fit_transform(df['Cuisines'])\n",
    "df['Has Table booking'] = encode.fit_transform(df['Has Table booking'])\n",
    "df['Has Online delivery'] = encode.fit_transform(df['Has Online delivery'])\n",
    "df['Rating color'] = encode.fit_transform(df['Rating color'])\n",
    "df['Rating text'] = encode.fit_transform(df['Rating text'])\n",
    "\n",
    "\n",
    "df.head()"
   ]
  },
  {
   "cell_type": "markdown",
   "id": "2313a486",
   "metadata": {},
   "source": [
    "The variable, \"Restaurant Name\" could not be encoded since some \"Restaurant Names\" had both strings and integers. "
   ]
  },
  {
   "cell_type": "markdown",
   "id": "995ba5ae",
   "metadata": {},
   "source": [
    "we can accomplish the same by \"pd.get_dummies\" method but it will add a huge no of columns to the dataset hence rendering the dataset inefficient for \"Modelling\", thus let us drop the column \"Restaurant Name\"."
   ]
  },
  {
   "cell_type": "code",
   "execution_count": 49,
   "id": "9e23a56c",
   "metadata": {},
   "outputs": [
    {
     "data": {
      "text/html": [
       "<div>\n",
       "<style scoped>\n",
       "    .dataframe tbody tr th:only-of-type {\n",
       "        vertical-align: middle;\n",
       "    }\n",
       "\n",
       "    .dataframe tbody tr th {\n",
       "        vertical-align: top;\n",
       "    }\n",
       "\n",
       "    .dataframe thead th {\n",
       "        text-align: right;\n",
       "    }\n",
       "</style>\n",
       "<table border=\"1\" class=\"dataframe\">\n",
       "  <thead>\n",
       "    <tr style=\"text-align: right;\">\n",
       "      <th></th>\n",
       "      <th>Restaurant ID</th>\n",
       "      <th>Country</th>\n",
       "      <th>City</th>\n",
       "      <th>Cuisines</th>\n",
       "      <th>Average Cost for two</th>\n",
       "      <th>Has Table booking</th>\n",
       "      <th>Has Online delivery</th>\n",
       "      <th>Price range</th>\n",
       "      <th>Aggregate rating</th>\n",
       "      <th>Rating color</th>\n",
       "      <th>Rating text</th>\n",
       "      <th>Votes</th>\n",
       "      <th>No_Cuisine</th>\n",
       "    </tr>\n",
       "  </thead>\n",
       "  <tbody>\n",
       "    <tr>\n",
       "      <th>0</th>\n",
       "      <td>5006</td>\n",
       "      <td>4</td>\n",
       "      <td>59</td>\n",
       "      <td>1044</td>\n",
       "      <td>1375.0</td>\n",
       "      <td>0</td>\n",
       "      <td>0</td>\n",
       "      <td>3</td>\n",
       "      <td>4.1</td>\n",
       "      <td>1</td>\n",
       "      <td>5</td>\n",
       "      <td>317.5</td>\n",
       "      <td>2</td>\n",
       "    </tr>\n",
       "    <tr>\n",
       "      <th>1</th>\n",
       "      <td>5008</td>\n",
       "      <td>4</td>\n",
       "      <td>59</td>\n",
       "      <td>136</td>\n",
       "      <td>1375.0</td>\n",
       "      <td>0</td>\n",
       "      <td>0</td>\n",
       "      <td>3</td>\n",
       "      <td>4.6</td>\n",
       "      <td>0</td>\n",
       "      <td>1</td>\n",
       "      <td>317.5</td>\n",
       "      <td>3</td>\n",
       "    </tr>\n",
       "  </tbody>\n",
       "</table>\n",
       "</div>"
      ],
      "text/plain": [
       "   Restaurant ID  Country  City  Cuisines  Average Cost for two  \\\n",
       "0           5006        4    59      1044                1375.0   \n",
       "1           5008        4    59       136                1375.0   \n",
       "\n",
       "   Has Table booking  Has Online delivery Price range  Aggregate rating  \\\n",
       "0                  0                    0           3               4.1   \n",
       "1                  0                    0           3               4.6   \n",
       "\n",
       "   Rating color  Rating text  Votes No_Cuisine  \n",
       "0             1            5  317.5          2  \n",
       "1             0            1  317.5          3  "
      ]
     },
     "execution_count": 49,
     "metadata": {},
     "output_type": "execute_result"
    }
   ],
   "source": [
    "### dropping the column\"Restaurant Name\" \n",
    "\n",
    "df.drop('Restaurant Name', axis =1, inplace = True)\n",
    "df.head(2)"
   ]
  },
  {
   "cell_type": "markdown",
   "id": "a07ba9c6",
   "metadata": {},
   "source": [
    "# 10.Explain the factors in the data that may have an effect on ratings. For example, number of cuisines, cost, delivery option, etc.\n",
    "\n"
   ]
  },
  {
   "cell_type": "markdown",
   "id": "f5cda43c",
   "metadata": {},
   "source": [
    "# Modelling"
   ]
  },
  {
   "cell_type": "markdown",
   "id": "fddaa320",
   "metadata": {},
   "source": [
    "The Dataset is now ready for Modelling, lets Create X(features/predictor) variables and Y (target) variable"
   ]
  },
  {
   "cell_type": "code",
   "execution_count": 50,
   "id": "d16ffda7",
   "metadata": {
    "scrolled": true
   },
   "outputs": [
    {
     "data": {
      "text/html": [
       "<div>\n",
       "<style scoped>\n",
       "    .dataframe tbody tr th:only-of-type {\n",
       "        vertical-align: middle;\n",
       "    }\n",
       "\n",
       "    .dataframe tbody tr th {\n",
       "        vertical-align: top;\n",
       "    }\n",
       "\n",
       "    .dataframe thead th {\n",
       "        text-align: right;\n",
       "    }\n",
       "</style>\n",
       "<table border=\"1\" class=\"dataframe\">\n",
       "  <thead>\n",
       "    <tr style=\"text-align: right;\">\n",
       "      <th></th>\n",
       "      <th>Restaurant ID</th>\n",
       "      <th>Country</th>\n",
       "      <th>City</th>\n",
       "      <th>Cuisines</th>\n",
       "      <th>Average Cost for two</th>\n",
       "      <th>Has Table booking</th>\n",
       "      <th>Has Online delivery</th>\n",
       "      <th>Price range</th>\n",
       "      <th>Rating color</th>\n",
       "      <th>Rating text</th>\n",
       "      <th>Votes</th>\n",
       "      <th>No_Cuisine</th>\n",
       "    </tr>\n",
       "  </thead>\n",
       "  <tbody>\n",
       "    <tr>\n",
       "      <th>0</th>\n",
       "      <td>5006</td>\n",
       "      <td>4</td>\n",
       "      <td>59</td>\n",
       "      <td>1044</td>\n",
       "      <td>1375.0</td>\n",
       "      <td>0</td>\n",
       "      <td>0</td>\n",
       "      <td>3</td>\n",
       "      <td>1</td>\n",
       "      <td>5</td>\n",
       "      <td>317.5</td>\n",
       "      <td>2</td>\n",
       "    </tr>\n",
       "    <tr>\n",
       "      <th>1</th>\n",
       "      <td>5008</td>\n",
       "      <td>4</td>\n",
       "      <td>59</td>\n",
       "      <td>136</td>\n",
       "      <td>1375.0</td>\n",
       "      <td>0</td>\n",
       "      <td>0</td>\n",
       "      <td>3</td>\n",
       "      <td>0</td>\n",
       "      <td>1</td>\n",
       "      <td>317.5</td>\n",
       "      <td>3</td>\n",
       "    </tr>\n",
       "  </tbody>\n",
       "</table>\n",
       "</div>"
      ],
      "text/plain": [
       "   Restaurant ID  Country  City  Cuisines  Average Cost for two  \\\n",
       "0           5006        4    59      1044                1375.0   \n",
       "1           5008        4    59       136                1375.0   \n",
       "\n",
       "   Has Table booking  Has Online delivery Price range  Rating color  \\\n",
       "0                  0                    0           3             1   \n",
       "1                  0                    0           3             0   \n",
       "\n",
       "   Rating text  Votes No_Cuisine  \n",
       "0            5  317.5          2  \n",
       "1            1  317.5          3  "
      ]
     },
     "execution_count": 50,
     "metadata": {},
     "output_type": "execute_result"
    }
   ],
   "source": [
    "#### Extracting the target variable \"Aggregate rating\", and dropping it from the dataset....\n",
    "\n",
    "target = df['Aggregate rating']\n",
    "\n",
    "df.drop('Aggregate rating', axis = 1 , inplace = True)\n",
    "df.head(2)"
   ]
  },
  {
   "cell_type": "code",
   "execution_count": 51,
   "id": "9ff7cf14",
   "metadata": {},
   "outputs": [],
   "source": [
    "### creating x(predictor), y(target) variables.. \n",
    "\n",
    "X = df.values\n",
    "y = target.values"
   ]
  },
  {
   "cell_type": "markdown",
   "id": "1f90c5af",
   "metadata": {},
   "source": [
    "Lets import \"train_test_split\" and \"LinearRegression\" from sklearn library."
   ]
  },
  {
   "cell_type": "markdown",
   "id": "4d8d79c4",
   "metadata": {},
   "source": [
    "Split the data into \"X\" and \"y\" train and test sets, thereafter we can fit the \"trainning data\" (X_train and y_train) into the Linear Regression algorithm."
   ]
  },
  {
   "cell_type": "markdown",
   "id": "7fa7e863",
   "metadata": {},
   "source": [
    "We can then make predictions on the \"testing set\" (X_test) and Finally evaluate the prediction results with the Actual set(y_test)."
   ]
  },
  {
   "cell_type": "code",
   "execution_count": 52,
   "id": "dd193a1d",
   "metadata": {},
   "outputs": [],
   "source": [
    "### Importing \"train_test_split\" and \"LinearRegression\" from sklearn.\n",
    "\n",
    "from sklearn.model_selection import train_test_split\n",
    "from sklearn.linear_model import LinearRegression"
   ]
  },
  {
   "cell_type": "code",
   "execution_count": 53,
   "id": "d05ecce9",
   "metadata": {},
   "outputs": [
    {
     "name": "stdout",
     "output_type": "stream",
     "text": [
      "X_train: (6678, 12)\n",
      "X_test: (2863, 12)\n",
      "y_train: (6678,)\n",
      "y_test: (2863,)\n"
     ]
    }
   ],
   "source": [
    "### Splitting the data into train and test sets\n",
    "\n",
    "X_train, X_test, y_train, y_test = train_test_split(X,y,test_size = 0.3, random_state = 1)\n",
    "\n",
    "print(\"X_train:\",X_train.shape)\n",
    "print(\"X_test:\",X_test.shape)\n",
    "print(\"y_train:\",y_train.shape)\n",
    "print(\"y_test:\",y_test.shape)"
   ]
  },
  {
   "cell_type": "code",
   "execution_count": 54,
   "id": "3d4a09d5",
   "metadata": {},
   "outputs": [],
   "source": [
    "##  Creating an instance of LINEAR REGRESSION \n",
    "\n",
    "LinReg = LinearRegression()"
   ]
  },
  {
   "cell_type": "code",
   "execution_count": 55,
   "id": "0fbc547e",
   "metadata": {},
   "outputs": [
    {
     "data": {
      "text/plain": [
       "LinearRegression()"
      ]
     },
     "execution_count": 55,
     "metadata": {},
     "output_type": "execute_result"
    }
   ],
   "source": [
    "### fitting the data into the model\n",
    "LinReg.fit(X_train,y_train)"
   ]
  },
  {
   "cell_type": "code",
   "execution_count": 56,
   "id": "1f2a67ed",
   "metadata": {},
   "outputs": [
    {
     "name": "stdout",
     "output_type": "stream",
     "text": [
      "The Linear Model Coefficients for the predictor variables are:\n",
      "\n",
      " [-4.44400529e-05  4.49993928e-02 -2.23516686e-03 -1.91586008e-04\n",
      " -4.48257740e-05 -2.27927849e-01  2.62905800e-01  2.95732848e-01\n",
      " -1.57460798e-01 -1.99511280e-01  5.50840038e-03  3.80333213e-02]\n",
      "\n",
      "\n",
      "The \"y\" intercept \"Bo\" is:\n",
      "\n",
      " 2.9483654623677227\n"
     ]
    }
   ],
   "source": [
    "### Getting the Coefficients (slopes) for predictor variables and the \"y\" intercept \n",
    "\n",
    "print('The Linear Model Coefficients for the predictor variables are:\\n\\n',LinReg.coef_)\n",
    "print('\\n')\n",
    "print('The \"y\" intercept \"Bo\" is:\\n\\n',LinReg.intercept_)"
   ]
  },
  {
   "cell_type": "markdown",
   "id": "0170bf0d",
   "metadata": {},
   "source": [
    "# Prediction:"
   ]
  },
  {
   "cell_type": "code",
   "execution_count": 57,
   "id": "732ad3d4",
   "metadata": {},
   "outputs": [
    {
     "data": {
      "text/plain": [
       "array([1.85292955, 2.01602139, 2.62815134, 2.43181425, 2.27200532,\n",
       "       3.0865376 , 2.41276033, 3.9665564 , 2.23695816, 2.35734943,\n",
       "       2.81253045, 3.46413337, 2.79457484, 3.04075326, 3.62243621,\n",
       "       2.77142083, 2.4424875 , 2.98452523, 3.06589286, 2.22481957,\n",
       "       3.76972724, 2.69166774, 3.0208265 , 2.10016981, 2.10911433,\n",
       "       1.65543089, 2.59742762, 2.70752158, 3.38789941, 2.66474977])"
      ]
     },
     "execution_count": 57,
     "metadata": {},
     "output_type": "execute_result"
    }
   ],
   "source": [
    "#### prediction :\n",
    "y_pred = LinReg.predict(X_test)\n",
    "y_pred[0:30]"
   ]
  },
  {
   "cell_type": "markdown",
   "id": "dd3200f1",
   "metadata": {},
   "source": [
    "# Evaluation:"
   ]
  },
  {
   "cell_type": "code",
   "execution_count": 58,
   "id": "1992d1c6",
   "metadata": {},
   "outputs": [
    {
     "data": {
      "text/plain": [
       "<matplotlib.collections.PathCollection at 0x2019f9ce460>"
      ]
     },
     "execution_count": 58,
     "metadata": {},
     "output_type": "execute_result"
    },
    {
     "data": {
      "image/png": "[encoded data removed]",
      "text/plain": [
       "<Figure size 720x432 with 1 Axes>"
      ]
     },
     "metadata": {
      "needs_background": "light"
     },
     "output_type": "display_data"
    }
   ],
   "source": [
    "### Plotting the Actual Vs predicted values:\n",
    "\n",
    "plt.scatter(y_test,y_pred)"
   ]
  },
  {
   "cell_type": "code",
   "execution_count": 59,
   "id": "c99aa964",
   "metadata": {},
   "outputs": [
    {
     "data": {
      "image/png": "[encoded data removed]",
      "text/plain": [
       "<Figure size 720x432 with 1 Axes>"
      ]
     },
     "metadata": {
      "needs_background": "light"
     },
     "output_type": "display_data"
    }
   ],
   "source": [
    "## Residual Histogram\n",
    "sns.distplot((y_test-y_pred),bins=50);"
   ]
  },
  {
   "cell_type": "code",
   "execution_count": 60,
   "id": "5e6ada6b",
   "metadata": {},
   "outputs": [
    {
     "name": "stdout",
     "output_type": "stream",
     "text": [
      "MAE: 0.6605759292729237\n",
      "MSE: 0.6546678862153457\n",
      "RMSE: 0.8091154962150617\n",
      "Efficiency 0.569401282530472\n"
     ]
    }
   ],
   "source": [
    "## Importing metrics from and Calculating \"MAE\",\"MSE\",\"RMSE\",\"Efficiency\"\n",
    "\n",
    "from sklearn import metrics\n",
    "\n",
    "print('MAE:', metrics.mean_absolute_error(y_test, y_pred))\n",
    "print('MSE:', metrics.mean_squared_error(y_test, y_pred))\n",
    "print('RMSE:', np.sqrt(metrics.mean_squared_error(y_test, y_pred)))\n",
    "print('Efficiency', metrics.r2_score(y_test, y_pred))"
   ]
  },
  {
   "cell_type": "markdown",
   "id": "9c7f9213",
   "metadata": {},
   "source": [
    "Thus the Prediction accuracy obtained for the above model is 56%"
   ]
  },
  {
   "cell_type": "markdown",
   "id": "f815a9a7",
   "metadata": {},
   "source": [
    "# Dashboarding:\n",
    "\n"
   ]
  },
  {
   "cell_type": "markdown",
   "id": "158b774a",
   "metadata": {},
   "source": [
    "# 11.Visualize the variables using Tableau to help user explore the data and create a better understanding of the restaurants to identify the ‘’star’’ restaurant\n",
    "\n"
   ]
  },
  {
   "cell_type": "markdown",
   "id": "a6f4ce34",
   "metadata": {},
   "source": [
    "# 12.Demonstrate the variables associated with each other and factors to build a dashboard"
   ]
  },
  {
   "cell_type": "markdown",
   "id": "1c17dcf0",
   "metadata": {},
   "source": [
    "The above cleaned dataset was exported as \"RestaurantData.xlsx\" by \"df.to_excel('RestaurantData.xlsx')\" method and used for \"Dashboarding\" in \"TABLEAU\"."
   ]
  },
  {
   "cell_type": "markdown",
   "id": "75e5e5fb",
   "metadata": {},
   "source": [
    "The same was saved on to the \"Tableau public server\", the link to access the \"Dashboard\" is...\n",
    "\"https://public.tableau.com/app/profile/syeda.tasneem.fatima/viz/RastaurantAnalysisDashboard/Dashboard1?publish=yes\"\n",
    "\n"
   ]
  },
  {
   "cell_type": "code",
   "execution_count": null,
   "id": "7ff5b18f",
   "metadata": {},
   "outputs": [],
   "source": []
  }
 ],
 "metadata": {
  "kernelspec": {
   "display_name": "Python 3",
   "language": "python",
   "name": "python3"
  },
  "language_info": {
   "codemirror_mode": {
    "name": "ipython",
    "version": 3
   },
   "file_extension": ".py",
   "mimetype": "text/x-python",
   "name": "python",
   "nbconvert_exporter": "python",
   "pygments_lexer": "ipython3",
   "version": "3.8.8"
  }
 },
 "nbformat": 4,
 "nbformat_minor": 5
}
